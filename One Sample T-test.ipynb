{
 "cells": [
  {
   "cell_type": "code",
   "execution_count": 1,
   "id": "6724ce0a",
   "metadata": {},
   "outputs": [],
   "source": [
    "import pandas as pd  \n",
    "import numpy as np  \n",
    "import matplotlib.pyplot as plt  \n",
    "import seaborn as sns  \n",
    "\n",
    "%matplotlib inline\n",
    "\n",
    "import scipy.stats as stats \n",
    "import random"
   ]
  },
  {
   "cell_type": "markdown",
   "id": "74e9d3c4",
   "metadata": {},
   "source": [
    "# **One Sample T-test for Population Mean**"
   ]
  },
  {
   "cell_type": "markdown",
   "id": "a4bb4903",
   "metadata": {},
   "source": [
    "**Business Problem 1**\n",
    "\n",
    "*A certain transportion company is facing stiff competition from its main rival. To retain business, the company is advertising that within a radius of 5 km from the destinestion where the pickup location is placed will take not more than 15 minutes or less, and if that is true they will aply a discount coupuns for these trips as long the trip duration doesn't exceed 15 minutes.*\n",
    "\n",
    "*The trip duration times in minutes of 25 randomly selected trips.*\n",
    "\n",
    "*Assuming the trips duration distribution is approximately normal, is there enough evidence that the company claim is false?*"
   ]
  },
  {
   "cell_type": "markdown",
   "id": "7790d0f9",
   "metadata": {},
   "source": [
    "We will test the null hypothesis\n",
    "\n",
    ">$H_0:\\mu = 15$ minutes\n",
    "\n",
    "against the alternate hypothesis\n",
    "\n",
    ">$H_a:\\mu > 15$ minutes"
   ]
  },
  {
   "cell_type": "code",
   "execution_count": 2,
   "id": "10c68f17",
   "metadata": {},
   "outputs": [
    {
     "data": {
      "text/html": [
       "<div>\n",
       "<style scoped>\n",
       "    .dataframe tbody tr th:only-of-type {\n",
       "        vertical-align: middle;\n",
       "    }\n",
       "\n",
       "    .dataframe tbody tr th {\n",
       "        vertical-align: top;\n",
       "    }\n",
       "\n",
       "    .dataframe thead th {\n",
       "        text-align: right;\n",
       "    }\n",
       "</style>\n",
       "<table border=\"1\" class=\"dataframe\">\n",
       "  <thead>\n",
       "    <tr style=\"text-align: right;\">\n",
       "      <th></th>\n",
       "      <th>trip_num</th>\n",
       "      <th>trip_duration</th>\n",
       "    </tr>\n",
       "  </thead>\n",
       "  <tbody>\n",
       "    <tr>\n",
       "      <th>0</th>\n",
       "      <td>1</td>\n",
       "      <td>13.0</td>\n",
       "    </tr>\n",
       "    <tr>\n",
       "      <th>1</th>\n",
       "      <td>2</td>\n",
       "      <td>7.0</td>\n",
       "    </tr>\n",
       "    <tr>\n",
       "      <th>2</th>\n",
       "      <td>3</td>\n",
       "      <td>14.0</td>\n",
       "    </tr>\n",
       "  </tbody>\n",
       "</table>\n",
       "</div>"
      ],
      "text/plain": [
       "   trip_num  trip_duration\n",
       "0         1           13.0\n",
       "1         2            7.0\n",
       "2         3           14.0"
      ]
     },
     "execution_count": 2,
     "metadata": {},
     "output_type": "execute_result"
    }
   ],
   "source": [
    "trans_data = pd.read_csv('transportion_data.csv')\n",
    "trans_data.drop(columns = ['Unnamed: 0'], inplace=True)\n",
    "trans_data['trip_duration'] = trans_data['trip_duration'].round()\n",
    "trans_data.head(3)"
   ]
  },
  {
   "cell_type": "code",
   "execution_count": 3,
   "id": "1ed433d9",
   "metadata": {},
   "outputs": [
    {
     "data": {
      "text/plain": [
       "16.04"
      ]
     },
     "execution_count": 3,
     "metadata": {},
     "output_type": "execute_result"
    }
   ],
   "source": [
    "trans_data['trip_duration'].mean()"
   ]
  },
  {
   "cell_type": "markdown",
   "id": "31bd8896",
   "metadata": {},
   "source": [
    "### Are the T-test assumptions are satisfied or not ?\n",
    "\n",
    "- Continuous data - Yes, the trip duration is time which measured on a continuous scale.\n",
    "- Normally distributed population and Sample size < 30 - Yes, it is assumed that the population is normal and the sample size is 25 which is less than 30.\n",
    "- Observations are from a simple random sample - Yes, we are informed that the collected sample is a simple random sample.\n",
    "- Population standard deviation is known - No"
   ]
  },
  {
   "cell_type": "markdown",
   "id": "756fc335",
   "metadata": {},
   "source": [
    "### Find the t-test statistic and p-value"
   ]
  },
  {
   "cell_type": "code",
   "execution_count": 4,
   "id": "260b7c5e",
   "metadata": {},
   "outputs": [
    {
     "name": "stdout",
     "output_type": "stream",
     "text": [
      "the p-value is : 0.23, the test statistics is : 0.74\n"
     ]
    }
   ],
   "source": [
    "from scipy.stats import ttest_1samp\n",
    "\n",
    "test_stat, p_value = ttest_1samp(trans_data['trip_duration'], popmean = 15, alternative = 'greater')\n",
    "result = f'the p-value is : {round(p_value, 2)}, the test statistics is : {round(test_stat, 2)}'\n",
    "print(result)"
   ]
  },
  {
   "cell_type": "markdown",
   "id": "b9cfe689",
   "metadata": {},
   "source": [
    "As the p-value is greater than the level of significance, we can't reject the null hypothesis. Hence, we do not have enough significance to conclude that the mean trip duration time within a 5 km radius is indeed more than 15 minutes, therefore the transportion company claim was true.."
   ]
  },
  {
   "cell_type": "markdown",
   "id": "94879358",
   "metadata": {},
   "source": [
    "### **Conclusion**\n",
    "\n",
    "- We are 95% sure that the mean trip duration within a 5 km radius is 15 minutes, the the mean trip duration could differ between trips but not more than 5% of 15 minutes..\n",
    "\n",
    "- In business context, the company was right about the mean trip duration within a 5 km radius, some of the trips could take more than 15 minutes due different factors such as : the traffic, the day of week,......,etc, but not more than 5% of the mean trip duration time.."
   ]
  },
  {
   "cell_type": "markdown",
   "id": "1cf272d7",
   "metadata": {},
   "source": [
    "**Business Problem 2**\n",
    "\n",
    "*We suppose at Starbucks, the average single shot of espressos which, for the coffee giant, measures 75 mg of caffeine. We randomly selected the caffeine content of 20 single shots of espressos from different Starbucks branches.*\n",
    "\n",
    "*Is there enough statistical evidence to conclude that the average caffeine content of this sample is different from the caffeine content of espressos with a significance level of 0.05?*\n",
    "\n",
    "**Formulate the null hypothesis and alternate hypothesis**\n",
    "\n",
    "* H<sub>0</sub>: x&#772; - &mu; = 75, There is no difference between the sample mean and the value of &mu;.\n",
    "* H<sub>a</sub>: x&#772; - &mu; &ne; 75, There is a difference between the sample mean and the value of &mu;."
   ]
  },
  {
   "cell_type": "code",
   "execution_count": 5,
   "id": "08402114",
   "metadata": {},
   "outputs": [
    {
     "data": {
      "text/html": [
       "<div>\n",
       "<style scoped>\n",
       "    .dataframe tbody tr th:only-of-type {\n",
       "        vertical-align: middle;\n",
       "    }\n",
       "\n",
       "    .dataframe tbody tr th {\n",
       "        vertical-align: top;\n",
       "    }\n",
       "\n",
       "    .dataframe thead th {\n",
       "        text-align: right;\n",
       "    }\n",
       "</style>\n",
       "<table border=\"1\" class=\"dataframe\">\n",
       "  <thead>\n",
       "    <tr style=\"text-align: right;\">\n",
       "      <th></th>\n",
       "      <th>caffeine_content_mg</th>\n",
       "    </tr>\n",
       "  </thead>\n",
       "  <tbody>\n",
       "    <tr>\n",
       "      <th>0</th>\n",
       "      <td>74.86</td>\n",
       "    </tr>\n",
       "    <tr>\n",
       "      <th>1</th>\n",
       "      <td>70.14</td>\n",
       "    </tr>\n",
       "    <tr>\n",
       "      <th>2</th>\n",
       "      <td>73.71</td>\n",
       "    </tr>\n",
       "    <tr>\n",
       "      <th>3</th>\n",
       "      <td>70.57</td>\n",
       "    </tr>\n",
       "    <tr>\n",
       "      <th>4</th>\n",
       "      <td>75.14</td>\n",
       "    </tr>\n",
       "    <tr>\n",
       "      <th>5</th>\n",
       "      <td>72.14</td>\n",
       "    </tr>\n",
       "    <tr>\n",
       "      <th>6</th>\n",
       "      <td>69.14</td>\n",
       "    </tr>\n",
       "    <tr>\n",
       "      <th>7</th>\n",
       "      <td>74.43</td>\n",
       "    </tr>\n",
       "    <tr>\n",
       "      <th>8</th>\n",
       "      <td>73.86</td>\n",
       "    </tr>\n",
       "    <tr>\n",
       "      <th>9</th>\n",
       "      <td>71.00</td>\n",
       "    </tr>\n",
       "    <tr>\n",
       "      <th>10</th>\n",
       "      <td>74.71</td>\n",
       "    </tr>\n",
       "    <tr>\n",
       "      <th>11</th>\n",
       "      <td>71.00</td>\n",
       "    </tr>\n",
       "    <tr>\n",
       "      <th>12</th>\n",
       "      <td>72.00</td>\n",
       "    </tr>\n",
       "    <tr>\n",
       "      <th>13</th>\n",
       "      <td>71.00</td>\n",
       "    </tr>\n",
       "    <tr>\n",
       "      <th>14</th>\n",
       "      <td>69.43</td>\n",
       "    </tr>\n",
       "    <tr>\n",
       "      <th>15</th>\n",
       "      <td>72.57</td>\n",
       "    </tr>\n",
       "    <tr>\n",
       "      <th>16</th>\n",
       "      <td>72.43</td>\n",
       "    </tr>\n",
       "    <tr>\n",
       "      <th>17</th>\n",
       "      <td>69.57</td>\n",
       "    </tr>\n",
       "    <tr>\n",
       "      <th>18</th>\n",
       "      <td>75.86</td>\n",
       "    </tr>\n",
       "    <tr>\n",
       "      <th>19</th>\n",
       "      <td>74.29</td>\n",
       "    </tr>\n",
       "  </tbody>\n",
       "</table>\n",
       "</div>"
      ],
      "text/plain": [
       "    caffeine_content_mg\n",
       "0                 74.86\n",
       "1                 70.14\n",
       "2                 73.71\n",
       "3                 70.57\n",
       "4                 75.14\n",
       "5                 72.14\n",
       "6                 69.14\n",
       "7                 74.43\n",
       "8                 73.86\n",
       "9                 71.00\n",
       "10                74.71\n",
       "11                71.00\n",
       "12                72.00\n",
       "13                71.00\n",
       "14                69.43\n",
       "15                72.57\n",
       "16                72.43\n",
       "17                69.57\n",
       "18                75.86\n",
       "19                74.29"
      ]
     },
     "execution_count": 5,
     "metadata": {},
     "output_type": "execute_result"
    }
   ],
   "source": [
    "caff_data = pd.read_csv('caffeine_content_mg.csv')\n",
    "caff_data.drop(columns = ['Unnamed: 0'], inplace=True)\n",
    "caff_data"
   ]
  },
  {
   "cell_type": "markdown",
   "id": "743696ae",
   "metadata": {},
   "source": [
    "### Are the T-test assumptions are satisfied or not ?\n",
    "\n",
    "- Continuous data - Yes, the caffeine content  is mg which measured on a continuous scale.\n",
    "- Normally distributed population and Sample size < 30 - Yes, it is assumed that the population is normal and the sample size is 20 which is less than 30.\n",
    "- Observations are from a simple random sample - Yes, we are informed that the collected sample is a simple random sample.\n",
    "- Population standard deviation is known - No"
   ]
  },
  {
   "cell_type": "markdown",
   "id": "c11d5de4",
   "metadata": {},
   "source": [
    "### Find the t-test statistic and p-value"
   ]
  },
  {
   "cell_type": "code",
   "execution_count": 6,
   "id": "5c32e117",
   "metadata": {},
   "outputs": [
    {
     "name": "stdout",
     "output_type": "stream",
     "text": [
      "t-stats =  -5.530906253534617 , p-value =  2.4632708039853616e-05\n"
     ]
    }
   ],
   "source": [
    "mu = 75\n",
    "\n",
    "t, p = stats.ttest_1samp(caff_data['caffeine_content_mg'], mu)\n",
    "print('t-stats = ', t, ', p-value = ', p)"
   ]
  },
  {
   "cell_type": "markdown",
   "id": "da02ce29",
   "metadata": {},
   "source": [
    "Since the p-value (0.0000246) < 0.05 (alpha), we reject the null hypothesis and conclude that the sample mean is not equal to the population mean, i.e.,the average caffeine content in a single shot of espressos is not equal to 75 mg."
   ]
  },
  {
   "cell_type": "markdown",
   "id": "e68c71ff",
   "metadata": {},
   "source": [
    "### **Conclusion**\n",
    "\n",
    "- We are 95% sure that the average caffeine content in a single shot of espressos no longer equals 75 mg."
   ]
  }
 ],
 "metadata": {
  "kernelspec": {
   "display_name": "Python 3 (ipykernel)",
   "language": "python",
   "name": "python3"
  },
  "language_info": {
   "codemirror_mode": {
    "name": "ipython",
    "version": 3
   },
   "file_extension": ".py",
   "mimetype": "text/x-python",
   "name": "python",
   "nbconvert_exporter": "python",
   "pygments_lexer": "ipython3",
   "version": "3.9.12"
  }
 },
 "nbformat": 4,
 "nbformat_minor": 5
}
