{
 "cells": [
  {
   "cell_type": "code",
   "execution_count": 1,
   "id": "9235499e",
   "metadata": {},
   "outputs": [],
   "source": [
    "import pandas as pd  \n",
    "import numpy as np  \n",
    "import matplotlib.pyplot as plt  \n",
    "import seaborn as sns  \n",
    "\n",
    "%matplotlib inline\n",
    "\n",
    "import scipy.stats as stats \n",
    "import random"
   ]
  },
  {
   "cell_type": "markdown",
   "id": "639bfb33",
   "metadata": {},
   "source": [
    "# 1. **One Proportion Z-test**"
   ]
  },
  {
   "cell_type": "markdown",
   "id": "b6693023",
   "metadata": {},
   "source": [
    "**Business Problem 1**\n",
    "\n",
    "*A Fox Sports channel reporter claims that the next champion of UEFA Champions League will be Real Madrid, known that currently there are 76 competing clubs*\n",
    "\n",
    "*We randomly collected data of the UEFA Champions League winners, Out of 50 seasons , Real Madrid won 12 times.*\n",
    "\n",
    "*Is there enough evidence at 𝛂 = 0.05 to support her claim?*\n",
    "\n",
    "\n",
    "Let $p$ be the proportion of (success) the number of times the users said they like the album.\n",
    "\n",
    "we will test the null hypothesis\n",
    "\n",
    ">$H_0:p \\leq 0.5$\n",
    "\n",
    "against the alternate hypothesis\n",
    "\n",
    ">$H_a:p > 0.5$"
   ]
  },
  {
   "cell_type": "code",
   "execution_count": 2,
   "id": "0bb4bf08",
   "metadata": {},
   "outputs": [
    {
     "data": {
      "text/html": [
       "<div>\n",
       "<style scoped>\n",
       "    .dataframe tbody tr th:only-of-type {\n",
       "        vertical-align: middle;\n",
       "    }\n",
       "\n",
       "    .dataframe tbody tr th {\n",
       "        vertical-align: top;\n",
       "    }\n",
       "\n",
       "    .dataframe thead th {\n",
       "        text-align: right;\n",
       "    }\n",
       "</style>\n",
       "<table border=\"1\" class=\"dataframe\">\n",
       "  <thead>\n",
       "    <tr style=\"text-align: right;\">\n",
       "      <th></th>\n",
       "      <th>Season</th>\n",
       "      <th>UCL champion</th>\n",
       "    </tr>\n",
       "  </thead>\n",
       "  <tbody>\n",
       "    <tr>\n",
       "      <th>0</th>\n",
       "      <td>1983-84</td>\n",
       "      <td>Liverpool (England)</td>\n",
       "    </tr>\n",
       "    <tr>\n",
       "      <th>1</th>\n",
       "      <td>1982-83</td>\n",
       "      <td>Hamburger SV (Germany)</td>\n",
       "    </tr>\n",
       "  </tbody>\n",
       "</table>\n",
       "</div>"
      ],
      "text/plain": [
       "    Season            UCL champion\n",
       "0  1983-84     Liverpool (England)\n",
       "1  1982-83  Hamburger SV (Germany)"
      ]
     },
     "execution_count": 2,
     "metadata": {},
     "output_type": "execute_result"
    }
   ],
   "source": [
    "uefa_samp = pd.read_csv('UEFA_Champions_League_Sample.csv')\n",
    "uefa_samp.drop(columns = ['Unnamed: 0'], inplace=True)\n",
    "uefa_samp.head(2)"
   ]
  },
  {
   "cell_type": "code",
   "execution_count": 3,
   "id": "02a33542",
   "metadata": {},
   "outputs": [
    {
     "data": {
      "text/plain": [
       "Real Madrid (Spain)    12\n",
       "Name: UCL champion, dtype: int64"
      ]
     },
     "execution_count": 3,
     "metadata": {},
     "output_type": "execute_result"
    }
   ],
   "source": [
    "uefa_samp['UCL champion'].value_counts().head(1)"
   ]
  },
  {
   "cell_type": "code",
   "execution_count": 4,
   "id": "acec3119",
   "metadata": {},
   "outputs": [],
   "source": [
    "def prop_binom_func(n, success):\n",
    "    ''' compute the probability of the two possible outcomes(Bernoulli)'''\n",
    "    prob_success = success/n\n",
    "    prob_fail = 1 - prob_success\n",
    "    result = f'The probability of success : {round(prob_success, 2)*100}% \\nThe probability of failure : {round(prob_fail, 2)*100} %'\n",
    "    return print(result)"
   ]
  },
  {
   "cell_type": "code",
   "execution_count": 5,
   "id": "75543bca",
   "metadata": {},
   "outputs": [],
   "source": [
    "def avg_binom_func(n, success):\n",
    "    '''compute the average number of successes and the average number of failures in n trials,\n",
    "    the results must be greater than 10, so that the normal approximation is applied only to binomial distributions '''\n",
    "    avg_success = n*success/n\n",
    "    avg_fail = n*((n-success)/n)\n",
    "    result = f' np = {int(avg_success)} \\n n(1-p) = {int(avg_fail)}'\n",
    "    return print(result)"
   ]
  },
  {
   "cell_type": "code",
   "execution_count": 6,
   "id": "f29510cd",
   "metadata": {},
   "outputs": [
    {
     "name": "stdout",
     "output_type": "stream",
     "text": [
      "The probability of success : 24.0% \n",
      "The probability of failure : 76.0 %\n"
     ]
    }
   ],
   "source": [
    "prob =  prop_binom_func(50, 12)\n",
    "prob"
   ]
  },
  {
   "cell_type": "code",
   "execution_count": 7,
   "id": "f62c80bc",
   "metadata": {},
   "outputs": [
    {
     "name": "stdout",
     "output_type": "stream",
     "text": [
      " np = 12 \n",
      " n(1-p) = 38\n"
     ]
    }
   ],
   "source": [
    "binom_ = avg_binom_func(50, 12)\n",
    "binom_"
   ]
  },
  {
   "cell_type": "markdown",
   "id": "efd9c389",
   "metadata": {},
   "source": [
    "### Are the Z-test assumptions are satisfied or not?\n",
    "\n",
    "- Binomially distributed population - Yes, the team either win or loss\n",
    "- Random sampling from the population - Yes, we randomly selected the data.\n",
    "- Can the binomial distribution be approximated to a normal distribution - Yes, For binary data, CLT works slower than usual. The standard thing is to check whether np and n(1-p) are greater than or equal to 10. \n",
    ">$np = 12 \\geq 10\\\\\n",
    "n(1-p) = 38 \\geq 10$"
   ]
  },
  {
   "cell_type": "markdown",
   "id": "a17662e2",
   "metadata": {},
   "source": [
    "### Find the z-test statistic and p-value"
   ]
  },
  {
   "cell_type": "code",
   "execution_count": 8,
   "id": "b026b57a",
   "metadata": {},
   "outputs": [
    {
     "name": "stdout",
     "output_type": "stream",
     "text": [
      "The p-value is : 0.9999916405302924, the t-test statistic is : -4.304730160461392\n"
     ]
    }
   ],
   "source": [
    "from statsmodels.stats.proportion import proportions_ztest\n",
    "\n",
    "test_stat, p_value = proportions_ztest(12, 50, value = 0.5, alternative = 'larger')\n",
    "print('The p-value is : {}, the t-test statistic is : {}'.format(str(p_value),str(test_stat)))"
   ]
  },
  {
   "cell_type": "markdown",
   "id": "4ae4e1cf",
   "metadata": {},
   "source": [
    "As the p-value is much greater than the significance level of 0.05, we can not reject the null hypothesis. Thus, the Fox reporter does not have enough statistical evidence to support her claim that the next UCL champion will be Real Madrid at a 5% significance level."
   ]
  },
  {
   "cell_type": "markdown",
   "id": "f94565cd",
   "metadata": {},
   "source": [
    "### **Conclusion**\n",
    "\n",
    "- Based on our test results, we don't have enough statistical evidence to say that Real Madrid will be the next UCL champion.\n",
    "- As Real Madrid is the most successful club it's reasonable to assume that the reporter is right, but it isn't and not with 95% confidence.\n",
    "- Still there's a possibility of 24% that Real Madrid will win the next season, however it's not certain or guaranteed."
   ]
  },
  {
   "cell_type": "markdown",
   "id": "749a8f33",
   "metadata": {},
   "source": [
    "# 2.**Two Proportion Z-test**"
   ]
  },
  {
   "cell_type": "markdown",
   "id": "ab4f2d45",
   "metadata": {},
   "source": [
    "**Business Problem 2**\n",
    "\n",
    "*A bank aims to improve its protection and security process by reducing the number of any security breaches.Thus, the bank randomly checks the efficiency of two transactional systems. In the first system, there are 52 breaches out of 300 attempts to cyber attacks on the system 1, and in the second system, there are 20 breaches out of 400 attempts to cyber attacks on the system 2.*\n",
    "\n",
    "*At a 5% level of significance, do we have enough statistical evidence to conclude that the protection procedures followed in the two systems are different?*\n",
    "\n",
    "Let $p_1$ and $p_2$ be the proportions of the number of breaches in system 1 and  system 2 respectively.\n",
    "\n",
    "We will test the null hypothesis\n",
    "\n",
    ">$H_0:p_1 =p_2$\n",
    "\n",
    "against the alternate hypothesis\n",
    "\n",
    ">$H_a:p_1 \\neq p_2$"
   ]
  },
  {
   "cell_type": "code",
   "execution_count": 9,
   "id": "3826afd5",
   "metadata": {},
   "outputs": [
    {
     "name": "stdout",
     "output_type": "stream",
     "text": [
      "The probability of success : 17.0% \n",
      "The probability of failure : 83.0 %\n"
     ]
    }
   ],
   "source": [
    "sys1_prob = prop_binom_func(300, 52)\n",
    "sys1_prob"
   ]
  },
  {
   "cell_type": "code",
   "execution_count": 10,
   "id": "b472f5dd",
   "metadata": {},
   "outputs": [
    {
     "name": "stdout",
     "output_type": "stream",
     "text": [
      "The probability of success : 5.0% \n",
      "The probability of failure : 95.0 %\n"
     ]
    }
   ],
   "source": [
    "sys2_prob = prop_binom_func(400, 20)\n",
    "sys2_prob"
   ]
  },
  {
   "cell_type": "code",
   "execution_count": 11,
   "id": "7af9d5ec",
   "metadata": {},
   "outputs": [
    {
     "name": "stdout",
     "output_type": "stream",
     "text": [
      " np = 52 \n",
      " n(1-p) = 248\n"
     ]
    }
   ],
   "source": [
    "system_1 = avg_binom_func(300, 52)\n",
    "system_1"
   ]
  },
  {
   "cell_type": "code",
   "execution_count": 12,
   "id": "acc3254c",
   "metadata": {},
   "outputs": [
    {
     "name": "stdout",
     "output_type": "stream",
     "text": [
      " np = 20 \n",
      " n(1-p) = 380\n"
     ]
    }
   ],
   "source": [
    "system_2 = avg_binom_func(400, 20)\n",
    "system_2"
   ]
  },
  {
   "cell_type": "markdown",
   "id": "34e663c1",
   "metadata": {},
   "source": [
    "### Are the Z-test assumptions are satisfied or not?\n",
    "\n",
    "- Binomially distributed population - Yes, A cyber attack is either a success or a failure.\n",
    "- Random sampling from the population - Yes, we are informed that the collected sample is a simple random sample.  \n",
    "- Can the binomial distribution be approximated to a normal distribution - Yes, For binary data, CLT works slower than usual. The standard thing is to check whether np and n(1-p) are greater than or equal to 10. \n",
    ">$np_1 = 52 \\geq 10\\\\\n",
    "n(1-p_1) = 248 \\geq 10 \\\\\n",
    "np_2 = 20 \\geq 10\\\\\n",
    "n(1-p_2) = 380 \\geq 10 $\n"
   ]
  },
  {
   "cell_type": "markdown",
   "id": "7a4c2b43",
   "metadata": {},
   "source": [
    "### Find the z-test statistic and p-value"
   ]
  },
  {
   "cell_type": "code",
   "execution_count": 13,
   "id": "0b224ff1",
   "metadata": {},
   "outputs": [
    {
     "name": "stdout",
     "output_type": "stream",
     "text": [
      "The p-value is : 1.0615112471575655e-07, the t-test statistic is : 5.3158662128413745\n"
     ]
    }
   ],
   "source": [
    "from statsmodels.stats.proportion import proportions_ztest\n",
    "\n",
    "breaches_count = np.array([52, 20])\n",
    "\n",
    "nobs = np.array([300, 400])\n",
    "\n",
    "# find the p-value\n",
    "test_stat, p_value = proportions_ztest(breaches_count, nobs)\n",
    "print('The p-value is : {}, the t-test statistic is : {}'.format(str(p_value),str(test_stat)))"
   ]
  },
  {
   "cell_type": "markdown",
   "id": "1f372bc7",
   "metadata": {},
   "source": [
    "As p-value is much smaller than the level of significance 0.05, we reject the null in favor of the alternative hypothesis. We have enough significant statistical evidence to support our alternative."
   ]
  },
  {
   "cell_type": "markdown",
   "id": "3fc05485",
   "metadata": {},
   "source": [
    "### **Conclusion**\n",
    "\n",
    "- With 95% confidence we can say that we have enough statistical evidence to say that the protection procedures followed by the two systems are different.\n",
    "- As the chance of security breach happening to system 1 is 17% , and the chance of security breach happening to system 2 is only 5%, system 1 is being more vulnerable to cyber attacks than system 2 since it has a higher chance to be breached.\n",
    "- In practical perspective, the protection procedures of system 2 is better than system 1 by 12% observed difference."
   ]
  }
 ],
 "metadata": {
  "kernelspec": {
   "display_name": "Python 3 (ipykernel)",
   "language": "python",
   "name": "python3"
  },
  "language_info": {
   "codemirror_mode": {
    "name": "ipython",
    "version": 3
   },
   "file_extension": ".py",
   "mimetype": "text/x-python",
   "name": "python",
   "nbconvert_exporter": "python",
   "pygments_lexer": "ipython3",
   "version": "3.9.12"
  }
 },
 "nbformat": 4,
 "nbformat_minor": 5
}
