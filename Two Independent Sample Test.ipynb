{
 "cells": [
  {
   "cell_type": "code",
   "execution_count": 1,
   "id": "67bba900",
   "metadata": {},
   "outputs": [],
   "source": [
    "import pandas as pd  \n",
    "import numpy as np  \n",
    "import matplotlib.pyplot as plt  \n",
    "import seaborn as sns  \n",
    "\n",
    "%matplotlib inline\n",
    "\n",
    "import scipy.stats as stats \n",
    "import random"
   ]
  },
  {
   "cell_type": "markdown",
   "id": "8e471b29",
   "metadata": {},
   "source": [
    "# 1. **Two Independent Sample Z-test for Equality of Means**"
   ]
  },
  {
   "cell_type": "markdown",
   "id": "794f525b",
   "metadata": {},
   "source": [
    "**Business Problem 1**\n",
    "\n",
    "*To compare customer satisfaction levels of two competing fine dining restaurants, 120 customers of restaurants A and 250 customers of restaurants B were randomly selected and were asked to rate their experience on a scale of 1 to 5, with 1 being least satisfied and 5 being most satisfied (The survey results are summarized below). Suppose we know that, $\\sigma_1$ = 0.15 and $\\sigma_2$ = 0.89.*\n",
    "\n",
    "*Test at a 0.05 level of significance whether the data provide sufficient evidence to conclude that restaurants A has a higher mean satisfaction rating than restaurants B.*\n"
   ]
  },
  {
   "cell_type": "markdown",
   "id": "64d503fb",
   "metadata": {},
   "source": [
    "Let $\\mu_A, \\mu_B$ be the mean customer rating of restaurants A and restaurants B respectively.\n",
    "\n",
    "We will test the null hypothesis\n",
    "\n",
    ">$H_0:\\mu_A=\\mu_B$\n",
    "\n",
    "against the alternate hypothesis\n",
    "\n",
    ">$H_a:\\mu_A>\\mu_B$"
   ]
  },
  {
   "cell_type": "code",
   "execution_count": 2,
   "id": "c8cb808b",
   "metadata": {},
   "outputs": [
    {
     "data": {
      "text/html": [
       "<div>\n",
       "<style scoped>\n",
       "    .dataframe tbody tr th:only-of-type {\n",
       "        vertical-align: middle;\n",
       "    }\n",
       "\n",
       "    .dataframe tbody tr th {\n",
       "        vertical-align: top;\n",
       "    }\n",
       "\n",
       "    .dataframe thead th {\n",
       "        text-align: right;\n",
       "    }\n",
       "</style>\n",
       "<table border=\"1\" class=\"dataframe\">\n",
       "  <thead>\n",
       "    <tr style=\"text-align: right;\">\n",
       "      <th></th>\n",
       "      <th>restaurant_A</th>\n",
       "    </tr>\n",
       "  </thead>\n",
       "  <tbody>\n",
       "    <tr>\n",
       "      <th>0</th>\n",
       "      <td>4.529049</td>\n",
       "    </tr>\n",
       "    <tr>\n",
       "      <th>1</th>\n",
       "      <td>4.289470</td>\n",
       "    </tr>\n",
       "    <tr>\n",
       "      <th>2</th>\n",
       "      <td>4.532923</td>\n",
       "    </tr>\n",
       "    <tr>\n",
       "      <th>3</th>\n",
       "      <td>4.402421</td>\n",
       "    </tr>\n",
       "  </tbody>\n",
       "</table>\n",
       "</div>"
      ],
      "text/plain": [
       "   restaurant_A\n",
       "0      4.529049\n",
       "1      4.289470\n",
       "2      4.532923\n",
       "3      4.402421"
      ]
     },
     "execution_count": 2,
     "metadata": {},
     "output_type": "execute_result"
    }
   ],
   "source": [
    "rest_A = pd.read_csv('restaurant_A_ratings.csv')\n",
    "rest_A.drop(columns = ['Unnamed: 0'], inplace=True)\n",
    "rest_A.head(4)"
   ]
  },
  {
   "cell_type": "code",
   "execution_count": 3,
   "id": "95d19c7d",
   "metadata": {},
   "outputs": [
    {
     "data": {
      "text/html": [
       "<div>\n",
       "<style scoped>\n",
       "    .dataframe tbody tr th:only-of-type {\n",
       "        vertical-align: middle;\n",
       "    }\n",
       "\n",
       "    .dataframe tbody tr th {\n",
       "        vertical-align: top;\n",
       "    }\n",
       "\n",
       "    .dataframe thead th {\n",
       "        text-align: right;\n",
       "    }\n",
       "</style>\n",
       "<table border=\"1\" class=\"dataframe\">\n",
       "  <thead>\n",
       "    <tr style=\"text-align: right;\">\n",
       "      <th></th>\n",
       "      <th>restaurant_B</th>\n",
       "    </tr>\n",
       "  </thead>\n",
       "  <tbody>\n",
       "    <tr>\n",
       "      <th>0</th>\n",
       "      <td>1.405078</td>\n",
       "    </tr>\n",
       "    <tr>\n",
       "      <th>1</th>\n",
       "      <td>2.139428</td>\n",
       "    </tr>\n",
       "    <tr>\n",
       "      <th>2</th>\n",
       "      <td>1.950545</td>\n",
       "    </tr>\n",
       "    <tr>\n",
       "      <th>3</th>\n",
       "      <td>3.146699</td>\n",
       "    </tr>\n",
       "  </tbody>\n",
       "</table>\n",
       "</div>"
      ],
      "text/plain": [
       "   restaurant_B\n",
       "0      1.405078\n",
       "1      2.139428\n",
       "2      1.950545\n",
       "3      3.146699"
      ]
     },
     "execution_count": 3,
     "metadata": {},
     "output_type": "execute_result"
    }
   ],
   "source": [
    "rest_B = pd.read_csv('restaurant_B_ratings.csv')\n",
    "rest_B.drop(columns = ['Unnamed: 0'], inplace=True)\n",
    "rest_B.head(4)"
   ]
  },
  {
   "cell_type": "code",
   "execution_count": 4,
   "id": "26f23010",
   "metadata": {},
   "outputs": [],
   "source": [
    "rest_A['rating_A'] = rest_A ['restaurant_A'].round(1)\n",
    "rest_B['rating_B'] = rest_B ['restaurant_B'].round(1)"
   ]
  },
  {
   "cell_type": "code",
   "execution_count": 5,
   "id": "6044b93c",
   "metadata": {},
   "outputs": [
    {
     "data": {
      "text/html": [
       "<div>\n",
       "<style scoped>\n",
       "    .dataframe tbody tr th:only-of-type {\n",
       "        vertical-align: middle;\n",
       "    }\n",
       "\n",
       "    .dataframe tbody tr th {\n",
       "        vertical-align: top;\n",
       "    }\n",
       "\n",
       "    .dataframe thead th {\n",
       "        text-align: right;\n",
       "    }\n",
       "</style>\n",
       "<table border=\"1\" class=\"dataframe\">\n",
       "  <thead>\n",
       "    <tr style=\"text-align: right;\">\n",
       "      <th></th>\n",
       "      <th>rating_A</th>\n",
       "    </tr>\n",
       "  </thead>\n",
       "  <tbody>\n",
       "    <tr>\n",
       "      <th>0</th>\n",
       "      <td>4.5</td>\n",
       "    </tr>\n",
       "    <tr>\n",
       "      <th>1</th>\n",
       "      <td>4.3</td>\n",
       "    </tr>\n",
       "  </tbody>\n",
       "</table>\n",
       "</div>"
      ],
      "text/plain": [
       "   rating_A\n",
       "0       4.5\n",
       "1       4.3"
      ]
     },
     "execution_count": 5,
     "metadata": {},
     "output_type": "execute_result"
    }
   ],
   "source": [
    "rest_A.drop(columns = ['restaurant_A'], inplace=True)\n",
    "rest_A.head(2)"
   ]
  },
  {
   "cell_type": "code",
   "execution_count": 6,
   "id": "ef994171",
   "metadata": {},
   "outputs": [
    {
     "data": {
      "text/html": [
       "<div>\n",
       "<style scoped>\n",
       "    .dataframe tbody tr th:only-of-type {\n",
       "        vertical-align: middle;\n",
       "    }\n",
       "\n",
       "    .dataframe tbody tr th {\n",
       "        vertical-align: top;\n",
       "    }\n",
       "\n",
       "    .dataframe thead th {\n",
       "        text-align: right;\n",
       "    }\n",
       "</style>\n",
       "<table border=\"1\" class=\"dataframe\">\n",
       "  <thead>\n",
       "    <tr style=\"text-align: right;\">\n",
       "      <th></th>\n",
       "      <th>rating_B</th>\n",
       "    </tr>\n",
       "  </thead>\n",
       "  <tbody>\n",
       "    <tr>\n",
       "      <th>0</th>\n",
       "      <td>1.4</td>\n",
       "    </tr>\n",
       "    <tr>\n",
       "      <th>1</th>\n",
       "      <td>2.1</td>\n",
       "    </tr>\n",
       "  </tbody>\n",
       "</table>\n",
       "</div>"
      ],
      "text/plain": [
       "   rating_B\n",
       "0       1.4\n",
       "1       2.1"
      ]
     },
     "execution_count": 6,
     "metadata": {},
     "output_type": "execute_result"
    }
   ],
   "source": [
    "rest_B.drop(columns = ['restaurant_B'], inplace=True)\n",
    "rest_B.head(2)"
   ]
  },
  {
   "cell_type": "code",
   "execution_count": 7,
   "id": "aefc378d",
   "metadata": {},
   "outputs": [
    {
     "data": {
      "text/html": [
       "<div>\n",
       "<style scoped>\n",
       "    .dataframe tbody tr th:only-of-type {\n",
       "        vertical-align: middle;\n",
       "    }\n",
       "\n",
       "    .dataframe tbody tr th {\n",
       "        vertical-align: top;\n",
       "    }\n",
       "\n",
       "    .dataframe thead th {\n",
       "        text-align: right;\n",
       "    }\n",
       "</style>\n",
       "<table border=\"1\" class=\"dataframe\">\n",
       "  <thead>\n",
       "    <tr style=\"text-align: right;\">\n",
       "      <th></th>\n",
       "      <th>rating_A</th>\n",
       "      <th>rating_B</th>\n",
       "    </tr>\n",
       "  </thead>\n",
       "  <tbody>\n",
       "    <tr>\n",
       "      <th>0</th>\n",
       "      <td>4.5</td>\n",
       "      <td>1.4</td>\n",
       "    </tr>\n",
       "    <tr>\n",
       "      <th>1</th>\n",
       "      <td>4.3</td>\n",
       "      <td>2.1</td>\n",
       "    </tr>\n",
       "    <tr>\n",
       "      <th>2</th>\n",
       "      <td>4.5</td>\n",
       "      <td>2.0</td>\n",
       "    </tr>\n",
       "    <tr>\n",
       "      <th>3</th>\n",
       "      <td>4.4</td>\n",
       "      <td>3.1</td>\n",
       "    </tr>\n",
       "    <tr>\n",
       "      <th>4</th>\n",
       "      <td>4.2</td>\n",
       "      <td>1.9</td>\n",
       "    </tr>\n",
       "    <tr>\n",
       "      <th>...</th>\n",
       "      <td>...</td>\n",
       "      <td>...</td>\n",
       "    </tr>\n",
       "    <tr>\n",
       "      <th>245</th>\n",
       "      <td>NaN</td>\n",
       "      <td>1.2</td>\n",
       "    </tr>\n",
       "    <tr>\n",
       "      <th>246</th>\n",
       "      <td>NaN</td>\n",
       "      <td>0.8</td>\n",
       "    </tr>\n",
       "    <tr>\n",
       "      <th>247</th>\n",
       "      <td>NaN</td>\n",
       "      <td>2.1</td>\n",
       "    </tr>\n",
       "    <tr>\n",
       "      <th>248</th>\n",
       "      <td>NaN</td>\n",
       "      <td>2.0</td>\n",
       "    </tr>\n",
       "    <tr>\n",
       "      <th>249</th>\n",
       "      <td>NaN</td>\n",
       "      <td>2.7</td>\n",
       "    </tr>\n",
       "  </tbody>\n",
       "</table>\n",
       "<p>250 rows × 2 columns</p>\n",
       "</div>"
      ],
      "text/plain": [
       "     rating_A  rating_B\n",
       "0         4.5       1.4\n",
       "1         4.3       2.1\n",
       "2         4.5       2.0\n",
       "3         4.4       3.1\n",
       "4         4.2       1.9\n",
       "..        ...       ...\n",
       "245       NaN       1.2\n",
       "246       NaN       0.8\n",
       "247       NaN       2.1\n",
       "248       NaN       2.0\n",
       "249       NaN       2.7\n",
       "\n",
       "[250 rows x 2 columns]"
      ]
     },
     "execution_count": 7,
     "metadata": {},
     "output_type": "execute_result"
    }
   ],
   "source": [
    "ratings = pd.concat([rest_A, rest_B], axis=1)\n",
    "ratings"
   ]
  },
  {
   "cell_type": "code",
   "execution_count": 8,
   "id": "221704cb",
   "metadata": {},
   "outputs": [
    {
     "data": {
      "text/html": [
       "<div>\n",
       "<style scoped>\n",
       "    .dataframe tbody tr th:only-of-type {\n",
       "        vertical-align: middle;\n",
       "    }\n",
       "\n",
       "    .dataframe tbody tr th {\n",
       "        vertical-align: top;\n",
       "    }\n",
       "\n",
       "    .dataframe thead th {\n",
       "        text-align: right;\n",
       "    }\n",
       "</style>\n",
       "<table border=\"1\" class=\"dataframe\">\n",
       "  <thead>\n",
       "    <tr style=\"text-align: right;\">\n",
       "      <th></th>\n",
       "      <th>rating_A</th>\n",
       "      <th>rating_B</th>\n",
       "    </tr>\n",
       "  </thead>\n",
       "  <tbody>\n",
       "    <tr>\n",
       "      <th>0</th>\n",
       "      <td>4.5</td>\n",
       "      <td>1.4</td>\n",
       "    </tr>\n",
       "    <tr>\n",
       "      <th>1</th>\n",
       "      <td>4.3</td>\n",
       "      <td>2.1</td>\n",
       "    </tr>\n",
       "    <tr>\n",
       "      <th>2</th>\n",
       "      <td>4.5</td>\n",
       "      <td>2.0</td>\n",
       "    </tr>\n",
       "    <tr>\n",
       "      <th>3</th>\n",
       "      <td>4.4</td>\n",
       "      <td>3.1</td>\n",
       "    </tr>\n",
       "    <tr>\n",
       "      <th>4</th>\n",
       "      <td>4.2</td>\n",
       "      <td>1.9</td>\n",
       "    </tr>\n",
       "    <tr>\n",
       "      <th>...</th>\n",
       "      <td>...</td>\n",
       "      <td>...</td>\n",
       "    </tr>\n",
       "    <tr>\n",
       "      <th>245</th>\n",
       "      <td>0.0</td>\n",
       "      <td>1.2</td>\n",
       "    </tr>\n",
       "    <tr>\n",
       "      <th>246</th>\n",
       "      <td>0.0</td>\n",
       "      <td>0.8</td>\n",
       "    </tr>\n",
       "    <tr>\n",
       "      <th>247</th>\n",
       "      <td>0.0</td>\n",
       "      <td>2.1</td>\n",
       "    </tr>\n",
       "    <tr>\n",
       "      <th>248</th>\n",
       "      <td>0.0</td>\n",
       "      <td>2.0</td>\n",
       "    </tr>\n",
       "    <tr>\n",
       "      <th>249</th>\n",
       "      <td>0.0</td>\n",
       "      <td>2.7</td>\n",
       "    </tr>\n",
       "  </tbody>\n",
       "</table>\n",
       "<p>250 rows × 2 columns</p>\n",
       "</div>"
      ],
      "text/plain": [
       "     rating_A  rating_B\n",
       "0         4.5       1.4\n",
       "1         4.3       2.1\n",
       "2         4.5       2.0\n",
       "3         4.4       3.1\n",
       "4         4.2       1.9\n",
       "..        ...       ...\n",
       "245       0.0       1.2\n",
       "246       0.0       0.8\n",
       "247       0.0       2.1\n",
       "248       0.0       2.0\n",
       "249       0.0       2.7\n",
       "\n",
       "[250 rows x 2 columns]"
      ]
     },
     "execution_count": 8,
     "metadata": {},
     "output_type": "execute_result"
    }
   ],
   "source": [
    "ratings['rating_A'].fillna(0, inplace=True)\n",
    "ratings"
   ]
  },
  {
   "cell_type": "code",
   "execution_count": 9,
   "id": "daa46978",
   "metadata": {},
   "outputs": [
    {
     "name": "stdout",
     "output_type": "stream",
     "text": [
      "The mean rating for restaurant A is : 2.1 The mean rating for restaurant B is : 1.9\n"
     ]
    }
   ],
   "source": [
    "mean_1 = f'The mean rating for restaurant A is : {round(ratings.rating_A.mean(), 1)}'\n",
    "mean_2 = f'The mean rating for restaurant B is : {round(ratings.rating_B.mean(), 1)}'\n",
    "print(mean_1, mean_2)"
   ]
  },
  {
   "cell_type": "markdown",
   "id": "da14c859",
   "metadata": {},
   "source": [
    "### Are the Z-test assumptions are satisfied or not?\n",
    "\n",
    "- Continuous data - The ratings are measured on a continuous scale.\n",
    "- Normally distributed populations or Sample sizes > 30 - Since the sample sizes are greater than 30, Central Limit Theorem states that the distribution of sample means will be normal.\n",
    "- Independent populations - As we are taking samples for two different restaurants, the two samples are from two independent populations.\n",
    "- Known population standard deviations $\\sigma_A$ and $\\sigma_B$ - Yes, we know the population standard deviations of both populations.\n",
    "- Random sampling from the population - Yes, we are informed that the collected sample is a simple random sample."
   ]
  },
  {
   "cell_type": "markdown",
   "id": "f0cf400a",
   "metadata": {},
   "source": [
    "### Find the p-value"
   ]
  },
  {
   "cell_type": "code",
   "execution_count": 10,
   "id": "db3c9d45",
   "metadata": {},
   "outputs": [],
   "source": [
    "def ztest_2samp(X1, X2, pop_sd1, pop_sd2, n1, n2):\n",
    "    '''\n",
    "    X1 - first of the two independent samples (sample 1)\n",
    "    X2 - second of the two independent samples (sample 2)\n",
    "    pop_sd1 - Population standard deviation of sample 1\n",
    "    pop_sd2 - Population standard deviation of sample 2\n",
    "    n1 - the size of sample 1\n",
    "    n2 - the size of sample 2\n",
    "    '''\n",
    "    from numpy import sqrt, abs\n",
    "    from scipy.stats import norm\n",
    "    se = sqrt(pop_sd1**2/n1 + pop_sd2**2/n2)\n",
    "    test_stat = ((X1.mean() - X2.mean()) - 0)/ se\n",
    "    pval = 1 - norm.cdf(abs(test_stat))\n",
    "    return pval"
   ]
  },
  {
   "cell_type": "code",
   "execution_count": 11,
   "id": "af393bc8",
   "metadata": {},
   "outputs": [
    {
     "data": {
      "text/plain": [
       "0.00016942771113326316"
      ]
     },
     "execution_count": 11,
     "metadata": {},
     "output_type": "execute_result"
    }
   ],
   "source": [
    "p_val = ztest_2samp(ratings['rating_A'].dropna(), ratings['rating_B'].dropna(), 0.15, 0.89, 120, 250)\n",
    "p_val"
   ]
  },
  {
   "cell_type": "markdown",
   "id": "eb6dbe25",
   "metadata": {},
   "source": [
    "As the p-value is  less than the level of significance of 0.05, we reject the null hypothesis. Thus, we have enough statistical evidence to tell that  restaurant A has a higher mean satisfaction rating than restaurant B."
   ]
  },
  {
   "cell_type": "markdown",
   "id": "1a0e1d09",
   "metadata": {},
   "source": [
    "### **Conclusion**\n",
    "\n",
    "- We are 95% confident that restaurant A is doing better than restaurant B in term of customer satisfaction.."
   ]
  },
  {
   "cell_type": "markdown",
   "id": "e4c31378",
   "metadata": {},
   "source": [
    "# 2.**Two Independent Sample T-test for Equality of Means - Equal Std Dev**"
   ]
  },
  {
   "cell_type": "markdown",
   "id": "f49cf095",
   "metadata": {},
   "source": [
    "**Business Problem 2**\n",
    "\n",
    "*The sodium content of N1=20 Pepsi Diet cans of 335ml and N2=30 Pepsi Max Cans of 320ml is measured. Is the sodium content from  Pepsi Diet cans of 335ml different from the Pepsi Max Cans of 320ml?*\n",
    "Note:\n",
    "- The sample sizes are not equal but we will assume that the population variance of sample 1 and sample 2 are equal to satisfy the assumptions.\n",
    "- Since the significance level is not provided. We can assume it to be 0.05.\n",
    "\n",
    "**Formulate null hypothesis and alternate hypothesis.**\n",
    "\n",
    "**H0**: mu1 = mu2 -> mu1 - mu2 = 0 - There is no difference between the means.\n",
    "\n",
    "**Ha**: mu1 != mu2 -> mu1 - mu2 != 0 - There is difference between the means."
   ]
  },
  {
   "cell_type": "code",
   "execution_count": 12,
   "id": "1dc6d5b2",
   "metadata": {},
   "outputs": [
    {
     "data": {
      "text/html": [
       "<div>\n",
       "<style scoped>\n",
       "    .dataframe tbody tr th:only-of-type {\n",
       "        vertical-align: middle;\n",
       "    }\n",
       "\n",
       "    .dataframe tbody tr th {\n",
       "        vertical-align: top;\n",
       "    }\n",
       "\n",
       "    .dataframe thead th {\n",
       "        text-align: right;\n",
       "    }\n",
       "</style>\n",
       "<table border=\"1\" class=\"dataframe\">\n",
       "  <thead>\n",
       "    <tr style=\"text-align: right;\">\n",
       "      <th></th>\n",
       "      <th>sodium1_mg</th>\n",
       "      <th>sodium2_mg</th>\n",
       "    </tr>\n",
       "  </thead>\n",
       "  <tbody>\n",
       "    <tr>\n",
       "      <th>0</th>\n",
       "      <td>24.18</td>\n",
       "      <td>17.84</td>\n",
       "    </tr>\n",
       "    <tr>\n",
       "      <th>1</th>\n",
       "      <td>23.73</td>\n",
       "      <td>17.59</td>\n",
       "    </tr>\n",
       "    <tr>\n",
       "      <th>2</th>\n",
       "      <td>23.69</td>\n",
       "      <td>17.31</td>\n",
       "    </tr>\n",
       "    <tr>\n",
       "      <th>3</th>\n",
       "      <td>23.98</td>\n",
       "      <td>16.04</td>\n",
       "    </tr>\n",
       "    <tr>\n",
       "      <th>4</th>\n",
       "      <td>23.57</td>\n",
       "      <td>17.92</td>\n",
       "    </tr>\n",
       "  </tbody>\n",
       "</table>\n",
       "</div>"
      ],
      "text/plain": [
       "   sodium1_mg  sodium2_mg\n",
       "0       24.18       17.84\n",
       "1       23.73       17.59\n",
       "2       23.69       17.31\n",
       "3       23.98       16.04\n",
       "4       23.57       17.92"
      ]
     },
     "execution_count": 12,
     "metadata": {},
     "output_type": "execute_result"
    }
   ],
   "source": [
    "sodium_data = pd.read_csv('sodium_data.csv')\n",
    "sodium_data.drop(columns = ['Unnamed: 0'], inplace=True)\n",
    "sodium_data.head()"
   ]
  },
  {
   "cell_type": "markdown",
   "id": "8b331c28",
   "metadata": {},
   "source": [
    "### Are the T-test assumptions are satisfied or not?\n",
    "\n",
    "- Continuous data - Yes, the sodium content is measured on a continuous scale.\n",
    "- Normally distributed populations - Yes, we are informed that the populations are assumed to be normal.\n",
    "- Independent populations - As we are taking random samples for two different types of users, the two samples are from two independent populations.\n",
    "- Equal population standard deviations - As the sample standard deviations are almost equal, the population standard deviations can be assumed to be equal.\n",
    "- Random sampling from the population - Yes, we are informed that the collected sample is a simple random sample."
   ]
  },
  {
   "cell_type": "markdown",
   "id": "951cd6d7",
   "metadata": {},
   "source": [
    "### Find the t-test statistic and p-value"
   ]
  },
  {
   "cell_type": "code",
   "execution_count": 13,
   "id": "332c20d5",
   "metadata": {},
   "outputs": [
    {
     "name": "stdout",
     "output_type": "stream",
     "text": [
      "t-stats =  0.48786077817746965 , p_value =  0.6274876408382779\n"
     ]
    }
   ],
   "source": [
    "t, p_value = stats.ttest_ind(sodium_data['sodium2_mg'], sodium_data['sodium1_mg'].dropna())\n",
    "\n",
    "print('t-stats = ',t, ', p_value = ', p_value)"
   ]
  },
  {
   "cell_type": "markdown",
   "id": "cf0beef0",
   "metadata": {},
   "source": [
    "The significance level is not given. So, we can assume it to be 0.05. As the p-value (0.627) > 0.05 (alpha), we failed to reject the null hypothesis, thus, we didn't have statistical evidence to say that there's a difference between two means of sodium."
   ]
  },
  {
   "cell_type": "markdown",
   "id": "8ed753a4",
   "metadata": {},
   "source": [
    "### **Conclusion**\n",
    "\n",
    "- At the level of significance of 0.05, we don't have enough statistical evidence to support our alternative hypothesis, therefore we conclude that there's no significant difference between the two Pepsi sodium contents.."
   ]
  },
  {
   "cell_type": "markdown",
   "id": "cd1e513d",
   "metadata": {},
   "source": [
    "# 3. **Two Independent Sample T-test for Equality of Means - Unequal Std Dev**"
   ]
  },
  {
   "cell_type": "markdown",
   "id": "b7cce6f4",
   "metadata": {},
   "source": [
    "**Business Problem 3**\n",
    "\n",
    "*Suppose Hershey Company is interested to know if the dark chocolate is more popular in the US than India, thus they randomly selected a sample of score ratings.*\n",
    "\n",
    "*The scores rating system is :*\n",
    "- 4.0 - 5.0 = Outstanding\n",
    "- 3.5 - 3.9 = Highly Recommended\n",
    "- 3.0 - 3.4 = Recommended\n",
    "- 2.0 - 2.9 = Disappointing\n",
    "- 1.0 - 1.9 = Unpleasant \n",
    "\n",
    "*Assuming Chocolate scores rating for two populations are normally distributed, do we have enough statistical evidence for this at a 5% significance level?*\n",
    "\n",
    "We will test the null hypothesis\n",
    "\n",
    ">$H_0:\\mu_1=\\mu_2$\n",
    "\n",
    "against the alternate hypothesis\n",
    "\n",
    ">$H_a:\\mu_1>\\mu_2$"
   ]
  },
  {
   "cell_type": "code",
   "execution_count": 14,
   "id": "be69512d",
   "metadata": {},
   "outputs": [
    {
     "data": {
      "text/html": [
       "<div>\n",
       "<style scoped>\n",
       "    .dataframe tbody tr th:only-of-type {\n",
       "        vertical-align: middle;\n",
       "    }\n",
       "\n",
       "    .dataframe tbody tr th {\n",
       "        vertical-align: top;\n",
       "    }\n",
       "\n",
       "    .dataframe thead th {\n",
       "        text-align: right;\n",
       "    }\n",
       "</style>\n",
       "<table border=\"1\" class=\"dataframe\">\n",
       "  <thead>\n",
       "    <tr style=\"text-align: right;\">\n",
       "      <th></th>\n",
       "      <th>US_scores</th>\n",
       "      <th>India_scores</th>\n",
       "    </tr>\n",
       "  </thead>\n",
       "  <tbody>\n",
       "    <tr>\n",
       "      <th>0</th>\n",
       "      <td>4.2</td>\n",
       "      <td>3.5</td>\n",
       "    </tr>\n",
       "    <tr>\n",
       "      <th>1</th>\n",
       "      <td>4.4</td>\n",
       "      <td>3.4</td>\n",
       "    </tr>\n",
       "  </tbody>\n",
       "</table>\n",
       "</div>"
      ],
      "text/plain": [
       "   US_scores  India_scores\n",
       "0        4.2           3.5\n",
       "1        4.4           3.4"
      ]
     },
     "execution_count": 14,
     "metadata": {},
     "output_type": "execute_result"
    }
   ],
   "source": [
    "chocolate_data = pd.read_csv('chocolate_scores.csv')\n",
    "chocolate_data.drop(columns = ['Unnamed: 0'], inplace=True)\n",
    "chocolate_data['US_scores'] = chocolate_data['US_scores'].round(1)\n",
    "chocolate_data['India_scores'] = chocolate_data['India_scores'].round(1)\n",
    "chocolate_data.head(2)"
   ]
  },
  {
   "cell_type": "code",
   "execution_count": 15,
   "id": "5bc2d60d",
   "metadata": {},
   "outputs": [
    {
     "name": "stdout",
     "output_type": "stream",
     "text": [
      "The AVG ratings of US is 4.28\n",
      "The AVG ratings of India is 2.98\n",
      "The standard deviation of the ratings in US is 0.14\n",
      "The standard deviation of ratings in India is 0.58\n"
     ]
    }
   ],
   "source": [
    "print('The AVG ratings of US is ' + str(round(chocolate_data['US_scores'].mean(), 2)))\n",
    "print('The AVG ratings of India is ' + str(round(chocolate_data['India_scores'].mean(), 2)))\n",
    "print('The standard deviation of the ratings in US is ' + str(round(chocolate_data['US_scores'].std(),2)))\n",
    "print('The standard deviation of ratings in India is ' + str(round(chocolate_data['India_scores'].std(),2)))"
   ]
  },
  {
   "cell_type": "markdown",
   "id": "2a115d1a",
   "metadata": {},
   "source": [
    "### Are the T-test assumptions are satisfied or not?\n",
    "\n",
    "- Continuous data - Yes, the Chocolate score raing system is measured on a continuous scale.\n",
    "- Normally distributed populations - Yes, we are informed that the populations are assumed to be normal.\n",
    "- Independent populations - As we are taking random samples for two different groups, the two samples are from two independent populations.\n",
    "- Unequal population standard deviations - As the sample standard deviations are different, the population standard deviations can be assumed to be different.\n",
    "- Random sampling from the population - Yes, we are informed that the collected sample is a simple random sample."
   ]
  },
  {
   "cell_type": "markdown",
   "id": "009fd8a4",
   "metadata": {},
   "source": [
    "### Find the t-test statistic and p-value"
   ]
  },
  {
   "cell_type": "code",
   "execution_count": 16,
   "id": "b4f77f99",
   "metadata": {},
   "outputs": [
    {
     "name": "stdout",
     "output_type": "stream",
     "text": [
      "The p-value is : 1.6446400020384743e-09, the t-test statistic is : 9.686795920003261\n"
     ]
    }
   ],
   "source": [
    "from scipy.stats import ttest_ind\n",
    "\n",
    "test_stat, p_value = ttest_ind(chocolate_data['US_scores'], chocolate_data['India_scores'], equal_var = False, alternative = 'greater')\n",
    "print('The p-value is : {}, the t-test statistic is : {}'.format(str(p_value),str(test_stat)))"
   ]
  },
  {
   "cell_type": "markdown",
   "id": "fec2a7ac",
   "metadata": {},
   "source": [
    "As the p-value is  much small than the level of significance of 0.05, we reject the null hypothesis. Thus, we have enough statistical evidence to tell that new chocolate has a higher mean score rating in US than in India."
   ]
  },
  {
   "cell_type": "markdown",
   "id": "96b71e75",
   "metadata": {},
   "source": [
    "### **Conclusion**\n",
    "\n",
    "- From the test result we can conclude that : 95% of times we're sure that the dark chocolate is more popular in US than in India.."
   ]
  }
 ],
 "metadata": {
  "kernelspec": {
   "display_name": "Python 3 (ipykernel)",
   "language": "python",
   "name": "python3"
  },
  "language_info": {
   "codemirror_mode": {
    "name": "ipython",
    "version": 3
   },
   "file_extension": ".py",
   "mimetype": "text/x-python",
   "name": "python",
   "nbconvert_exporter": "python",
   "pygments_lexer": "ipython3",
   "version": "3.9.12"
  }
 },
 "nbformat": 4,
 "nbformat_minor": 5
}
