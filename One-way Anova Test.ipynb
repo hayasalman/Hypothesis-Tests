{
 "cells": [
  {
   "cell_type": "code",
   "execution_count": 1,
   "id": "5de3eec7",
   "metadata": {},
   "outputs": [],
   "source": [
    "import pandas as pd  \n",
    "import numpy as np  \n",
    "import matplotlib.pyplot as plt  \n",
    "import seaborn as sns  \n",
    "\n",
    "%matplotlib inline\n",
    "\n",
    "import scipy.stats as stats \n",
    "import random"
   ]
  },
  {
   "cell_type": "markdown",
   "id": "cd7ee658",
   "metadata": {},
   "source": [
    "# **One-way Anova Test**"
   ]
  },
  {
   "cell_type": "markdown",
   "id": "bc5c2086",
   "metadata": {},
   "source": [
    "*Suppose a certain e-commerce company wants to understand whether sales from different advertisements are different. The company has reasons to believe that advertisement types may be the factor responsible for differences in sales.*\n",
    " \n",
    "*For this purpose, the company decided to run a statistical experiment using different types of advertisements to target the customers, then they randomly selected a sample of the advertisements sales and they would like to test if the sales depends on advertisement types at a 5% significance level.*\n",
    "\n",
    "Let $\\mu_1, \\mu_2, \\mu_3$ be the means of sales for advertisment types display, paid search, and social media respectively.\n",
    "\n",
    "We will test the null hypothesis\n",
    "\n",
    ">$H_0: \\mu_1 = \\mu_2 = \\mu_3$\n",
    "\n",
    "against the alternative hypothesis\n",
    "\n",
    ">$H_a: $ At least one advertisment sales is different from the rest.\n"
   ]
  },
  {
   "cell_type": "code",
   "execution_count": 2,
   "id": "15239a79",
   "metadata": {},
   "outputs": [
    {
     "data": {
      "text/html": [
       "<div>\n",
       "<style scoped>\n",
       "    .dataframe tbody tr th:only-of-type {\n",
       "        vertical-align: middle;\n",
       "    }\n",
       "\n",
       "    .dataframe tbody tr th {\n",
       "        vertical-align: top;\n",
       "    }\n",
       "\n",
       "    .dataframe thead th {\n",
       "        text-align: right;\n",
       "    }\n",
       "</style>\n",
       "<table border=\"1\" class=\"dataframe\">\n",
       "  <thead>\n",
       "    <tr style=\"text-align: right;\">\n",
       "      <th></th>\n",
       "      <th>product_ids</th>\n",
       "      <th>ads</th>\n",
       "      <th>sales</th>\n",
       "    </tr>\n",
       "  </thead>\n",
       "  <tbody>\n",
       "    <tr>\n",
       "      <th>0</th>\n",
       "      <td>9301</td>\n",
       "      <td>social media</td>\n",
       "      <td>9319.74</td>\n",
       "    </tr>\n",
       "    <tr>\n",
       "      <th>1</th>\n",
       "      <td>5358</td>\n",
       "      <td>paid search</td>\n",
       "      <td>11552.47</td>\n",
       "    </tr>\n",
       "    <tr>\n",
       "      <th>2</th>\n",
       "      <td>8293</td>\n",
       "      <td>social media</td>\n",
       "      <td>8493.19</td>\n",
       "    </tr>\n",
       "    <tr>\n",
       "      <th>3</th>\n",
       "      <td>4972</td>\n",
       "      <td>paid search</td>\n",
       "      <td>16530.58</td>\n",
       "    </tr>\n",
       "    <tr>\n",
       "      <th>4</th>\n",
       "      <td>7024</td>\n",
       "      <td>display</td>\n",
       "      <td>11739.54</td>\n",
       "    </tr>\n",
       "    <tr>\n",
       "      <th>...</th>\n",
       "      <td>...</td>\n",
       "      <td>...</td>\n",
       "      <td>...</td>\n",
       "    </tr>\n",
       "    <tr>\n",
       "      <th>405</th>\n",
       "      <td>6356</td>\n",
       "      <td>paid search</td>\n",
       "      <td>13436.16</td>\n",
       "    </tr>\n",
       "    <tr>\n",
       "      <th>406</th>\n",
       "      <td>8784</td>\n",
       "      <td>paid search</td>\n",
       "      <td>11715.92</td>\n",
       "    </tr>\n",
       "    <tr>\n",
       "      <th>407</th>\n",
       "      <td>6528</td>\n",
       "      <td>paid search</td>\n",
       "      <td>11936.56</td>\n",
       "    </tr>\n",
       "    <tr>\n",
       "      <th>408</th>\n",
       "      <td>8523</td>\n",
       "      <td>social media</td>\n",
       "      <td>12508.15</td>\n",
       "    </tr>\n",
       "    <tr>\n",
       "      <th>409</th>\n",
       "      <td>7066</td>\n",
       "      <td>display</td>\n",
       "      <td>10689.13</td>\n",
       "    </tr>\n",
       "  </tbody>\n",
       "</table>\n",
       "<p>410 rows × 3 columns</p>\n",
       "</div>"
      ],
      "text/plain": [
       "     product_ids           ads     sales\n",
       "0           9301  social media   9319.74\n",
       "1           5358   paid search  11552.47\n",
       "2           8293  social media   8493.19\n",
       "3           4972   paid search  16530.58\n",
       "4           7024       display  11739.54\n",
       "..           ...           ...       ...\n",
       "405         6356   paid search  13436.16\n",
       "406         8784   paid search  11715.92\n",
       "407         6528   paid search  11936.56\n",
       "408         8523  social media  12508.15\n",
       "409         7066       display  10689.13\n",
       "\n",
       "[410 rows x 3 columns]"
      ]
     },
     "execution_count": 2,
     "metadata": {},
     "output_type": "execute_result"
    }
   ],
   "source": [
    "ads = pd.read_csv('ads_samp.csv')\n",
    "ads.drop(columns = ['Unnamed: 0'], inplace=True)\n",
    "ads"
   ]
  },
  {
   "cell_type": "markdown",
   "id": "1c2aecda",
   "metadata": {},
   "source": [
    "Here, **sales** is the response and **ads** is the factor."
   ]
  },
  {
   "cell_type": "code",
   "execution_count": 3,
   "id": "87e0a80a",
   "metadata": {},
   "outputs": [
    {
     "data": {
      "text/plain": [
       "social media    140\n",
       "paid search     140\n",
       "display         130\n",
       "Name: ads, dtype: int64"
      ]
     },
     "execution_count": 3,
     "metadata": {},
     "output_type": "execute_result"
    }
   ],
   "source": [
    "ads['ads'].value_counts()"
   ]
  },
  {
   "cell_type": "code",
   "execution_count": 5,
   "id": "114b56f7",
   "metadata": {},
   "outputs": [
    {
     "name": "stdout",
     "output_type": "stream",
     "text": [
      "ads\n",
      "display         12312.08\n",
      "paid search     11908.98\n",
      "social media    11690.03\n",
      "Name: sales, dtype: float64\n"
     ]
    },
    {
     "data": {
      "image/png": "[encoded data removed]",
      "text/plain": [
       "<Figure size 576x432 with 1 Axes>"
      ]
     },
     "metadata": {},
     "output_type": "display_data"
    }
   ],
   "source": [
    "print(round(ads.groupby('ads')['sales'].mean(),2))\n",
    "\n",
    "plt.style.use('ggplot')\n",
    "fig, ax = plt.subplots(figsize = (8,6))\n",
    "a = sns.boxplot(x = 'ads', y = 'sales' , data = ads, hue = 'ads')\n",
    "a.set_title('Advertisment Sales', fontsize = 15)\n",
    "a.set_xlabel('Advertidment', fontsize=14)\n",
    "a.set_ylabel('Sales', fontsize=14)\n",
    "plt.legend(loc='lower right',fontsize=12)\n",
    "plt.show()"
   ]
  },
  {
   "cell_type": "code",
   "execution_count": 7,
   "id": "7f5f7c6a",
   "metadata": {},
   "outputs": [
    {
     "data": {
      "text/plain": [
       "<seaborn.axisgrid.FacetGrid at 0x23d5b0cd730>"
      ]
     },
     "execution_count": 7,
     "metadata": {},
     "output_type": "execute_result"
    },
    {
     "data": {
      "text/plain": [
       "<Figure size 864x576 with 0 Axes>"
      ]
     },
     "metadata": {},
     "output_type": "display_data"
    },
    {
     "data": {
      "image/png": "[encoded data removed]",
      "text/plain": [
       "<Figure size 360x360 with 1 Axes>"
      ]
     },
     "metadata": {},
     "output_type": "display_data"
    }
   ],
   "source": [
    "plt.figure(figsize = (12,8))\n",
    "sns.displot(ads['sales'], kde=True)"
   ]
  },
  {
   "cell_type": "markdown",
   "id": "d8174c78",
   "metadata": {},
   "source": [
    "**Insight**\n",
    "- The advertisements sales are approximately normal distributed."
   ]
  },
  {
   "cell_type": "markdown",
   "id": "56dd0683",
   "metadata": {},
   "source": [
    "Now, the normality and equality variance assumptions need to be checked. \n",
    "\n",
    "- For testing normality, Shapiro-Wilk's test is applied to the response variable.\n",
    "\n",
    "- For equality of variances, Levene's test is applied to the response variable."
   ]
  },
  {
   "cell_type": "markdown",
   "id": "254307cf",
   "metadata": {},
   "source": [
    "### Shapiro-Wilk’s test\n",
    "\n",
    "We will test the null hypothesis\n",
    "\n",
    ">$H_0:$ Advertisments sales follows a normal distribution\n",
    "\n",
    "against the alternative hypothesis\n",
    "\n",
    ">$H_a:$ Advertisments sales not follow a normal distribution"
   ]
  },
  {
   "cell_type": "code",
   "execution_count": 8,
   "id": "57753bd8",
   "metadata": {},
   "outputs": [
    {
     "name": "stdout",
     "output_type": "stream",
     "text": [
      "The p-value is 0.1454678177833557\n"
     ]
    }
   ],
   "source": [
    "from scipy import stats\n",
    "\n",
    "w, p_value = stats.shapiro(ads['sales']) \n",
    "print('The p-value is', p_value)"
   ]
  },
  {
   "cell_type": "markdown",
   "id": "c8d57415",
   "metadata": {},
   "source": [
    "Since the p-value of the test is greater than the level of significance, we fail to reject the null hypothesis that the response variable follows the normal distribution."
   ]
  },
  {
   "cell_type": "markdown",
   "id": "a874b03d",
   "metadata": {},
   "source": [
    "### Levene’s test\n",
    "\n",
    "We will test the null hypothesis\n",
    "\n",
    ">$H_0$: All the population variances are equal\n",
    "\n",
    "against the alternative hypothesis\n",
    "\n",
    ">$H_a$: At least one variance is different from the rest"
   ]
  },
  {
   "cell_type": "code",
   "execution_count": 9,
   "id": "bdc5c485",
   "metadata": {},
   "outputs": [
    {
     "name": "stdout",
     "output_type": "stream",
     "text": [
      "The p-value is 0.4985826674279157\n"
     ]
    }
   ],
   "source": [
    "from scipy.stats import levene\n",
    "\n",
    "statistic, p_value = levene(ads['sales'][ads['ads'] == 'display'], \n",
    "                            ads['sales'][ads['ads'] == 'paid search'], \n",
    "                            ads['sales'][ads['ads'] ==  'social media'])\n",
    "# find the p-value\n",
    "print('The p-value is', p_value)"
   ]
  },
  {
   "cell_type": "markdown",
   "id": "55711b4a",
   "metadata": {},
   "source": [
    "Since the p-value is large, we fail to reject the null hypothesis of homogeneity of variances."
   ]
  },
  {
   "cell_type": "markdown",
   "id": "5c81870f",
   "metadata": {},
   "source": [
    "### Are the assumptions of Anova are satisfied or not\n",
    "\n",
    "- The populations are normally distributed - Yes, the normality assumption is verified using the Shapiro-Wilk’s test.\n",
    "- Samples are independent simple random samples - Yes, we are informed that the collected sample is a simple random sample.\n",
    "- Population variances are equal - Yes, the homogeneity of variance assumption is verified using Levene's test."
   ]
  },
  {
   "cell_type": "markdown",
   "id": "a0054449",
   "metadata": {},
   "source": [
    "### Let's find the p-value"
   ]
  },
  {
   "cell_type": "code",
   "execution_count": 10,
   "id": "d74292ee",
   "metadata": {},
   "outputs": [
    {
     "name": "stdout",
     "output_type": "stream",
     "text": [
      "The p-value is 0.04432510904231562\n"
     ]
    }
   ],
   "source": [
    "from scipy.stats import f_oneway\n",
    "\n",
    "\n",
    "test_stat, p_value = f_oneway(ads.loc[ads['ads'] == 'display', 'sales'],\n",
    "                              ads.loc[ads['ads'] == 'paid search', 'sales'],\n",
    "                              ads.loc[ads['ads'] == 'social media', 'sales'])\n",
    "print('The p-value is ' + str(p_value))"
   ]
  },
  {
   "cell_type": "markdown",
   "id": "f72e7204",
   "metadata": {},
   "source": [
    "As the p-value is less than the significance level (0.05), we can reject the null hypothesis. Hence, we do have enough statistical evidence to conclude that at least one advertisement's sales is different from the rest at a 5% significance level."
   ]
  },
  {
   "cell_type": "markdown",
   "id": "33ce9193",
   "metadata": {},
   "source": [
    "### **Conclusion**\n",
    "\n",
    "- With 95% confidence we conclude that we have enough statistical evidence to say that at least one advertisement sales is different from the others.\n",
    "- However, we don't know which mean is different from the rest or whether all pairs of means are different. Multiple comparison tests are used to test the differences between all pairs of means"
   ]
  },
  {
   "cell_type": "markdown",
   "id": "182493fa",
   "metadata": {},
   "source": [
    "### Multiple Comparison test (Tukey HSD)"
   ]
  },
  {
   "cell_type": "markdown",
   "id": "b539008e",
   "metadata": {},
   "source": [
    "To identify which advertisement sales mean is different from other groups, the null hypothesis is\n",
    "\n",
    "  > $𝐻_0: 𝜇_1=𝜇_2 \\text{ and } 𝜇_1=𝜇_3 \\text{ and } 𝜇_2=𝜇_3$\n",
    "\n",
    "against the alternative hypothesis\n",
    "\n",
    " > $𝐻_a: 𝜇_1\\neq𝜇_2 \\text{ or } 𝜇_1\\neq𝜇_3 \\text{ or } 𝜇_2\\neq𝜇_3$"
   ]
  },
  {
   "cell_type": "code",
   "execution_count": 11,
   "id": "62839938",
   "metadata": {},
   "outputs": [
    {
     "name": "stdout",
     "output_type": "stream",
     "text": [
      "        Multiple Comparison of Means - Tukey HSD, FWER=0.05         \n",
      "====================================================================\n",
      "   group1      group2     meandiff p-adj    lower     upper   reject\n",
      "--------------------------------------------------------------------\n",
      "    display  paid search -403.1032 0.2446  -993.6724 187.4661  False\n",
      "    display social media -622.0485 0.0362 -1212.6177 -31.4792   True\n",
      "paid search social media -218.9453 0.6356  -798.4749 360.5843  False\n",
      "--------------------------------------------------------------------\n"
     ]
    }
   ],
   "source": [
    "from statsmodels.stats.multicomp import pairwise_tukeyhsd\n",
    "\n",
    "m_comp = pairwise_tukeyhsd(endog = ads['sales'], groups = ads['ads'], alpha = 0.05)\n",
    "print(m_comp)"
   ]
  },
  {
   "cell_type": "markdown",
   "id": "b3e35501",
   "metadata": {},
   "source": [
    "### **Conclusion**\n",
    "\n",
    "- As the p-value for comparing the mean sales for the pair of display ads - social media ads is less than the significance level, the null hypothesis of equality of all population means can be rejected.\n",
    "\n",
    "- Thus, we can say that the mean sales for paid search ads - display ads and social media ads is similar but the sales for advertisement of social media ads is significantly different from display ads."
   ]
  }
 ],
 "metadata": {
  "kernelspec": {
   "display_name": "Python 3 (ipykernel)",
   "language": "python",
   "name": "python3"
  },
  "language_info": {
   "codemirror_mode": {
    "name": "ipython",
    "version": 3
   },
   "file_extension": ".py",
   "mimetype": "text/x-python",
   "name": "python",
   "nbconvert_exporter": "python",
   "pygments_lexer": "ipython3",
   "version": "3.9.12"
  }
 },
 "nbformat": 4,
 "nbformat_minor": 5
}
