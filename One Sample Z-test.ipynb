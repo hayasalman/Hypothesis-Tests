{
 "cells": [
  {
   "cell_type": "code",
   "execution_count": 2,
   "id": "5e388878",
   "metadata": {},
   "outputs": [],
   "source": [
    "import pandas as pd  \n",
    "import numpy as np  \n",
    "import matplotlib.pyplot as plt  \n",
    "import seaborn as sns  \n",
    "\n",
    "%matplotlib inline\n",
    "\n",
    "import scipy.stats as stats \n",
    "import random"
   ]
  },
  {
   "cell_type": "markdown",
   "id": "43e266d6",
   "metadata": {},
   "source": [
    "### **Applying Hypothesis Test for Population Mean**"
   ]
  },
  {
   "cell_type": "markdown",
   "id": "4f9f094f",
   "metadata": {},
   "source": [
    "# 1. when population standard deviation is known\n",
    "\n",
    "It is rarely the case when you know the population standard deviation and not the mean but let's assume that is the case."
   ]
  },
  {
   "cell_type": "markdown",
   "id": "1d5e76be",
   "metadata": {},
   "source": [
    "**Business Problem 1**\n",
    "\n",
    "*It is known from experience that for airlines companies the mean flight time from South Africa to Australia is 5.5 hours with a standard deviation of 1.3 hour.*\n",
    "\n",
    "*a certain airlines company is afraid that they are is slipping and collect a random sample of 45 flights. The mean flight time of these samples comes out to be 6.45 hours.*\n",
    "\n",
    "*Is there enough statistical evidence for the company’s apprehension that their mean flight time from South Africa to Australia is greater than 5.5 hours?*\n",
    "\n",
    "Use level of significance 𝛼 = 0.05."
   ]
  },
  {
   "cell_type": "markdown",
   "id": "e8f35f50",
   "metadata": {},
   "source": [
    "## One-tail Test"
   ]
  },
  {
   "cell_type": "markdown",
   "id": "ee9d981c",
   "metadata": {},
   "source": [
    "Let $\\mu$ be the mean flight time of the trip.\n",
    "\n",
    "The company will test the null hypothesis\n",
    "\n",
    ">$H_0: \\mu = 5.5$ hours\n",
    "\n",
    "against the alternate hypothesis\n",
    "\n",
    "> $H_a: \\mu > 5.5$ hours"
   ]
  },
  {
   "cell_type": "markdown",
   "id": "552b1513",
   "metadata": {},
   "source": [
    "### Are the assumptions of the Z-test satisfied?\n",
    "\n",
    "- Samples are drawn from a normal distribution - Since the sample size is 45(which is > 30), Central Limit Theorem states that the distribution of sample means will be normal. If the sample size was less than 30, we would have been able to apply the z test if we knew that the population distribution was normal.  \n",
    "- Observations are from a simple random sample - we are informed that the company collected a simple random sample.\n",
    "- Standard deviation is known - Yes."
   ]
  },
  {
   "cell_type": "markdown",
   "id": "a5bdd96e",
   "metadata": {},
   "source": [
    "### Find the Z test statistic"
   ]
  },
  {
   "cell_type": "code",
   "execution_count": 3,
   "id": "a74028f1",
   "metadata": {},
   "outputs": [
    {
     "data": {
      "text/plain": [
       "4.9"
      ]
     },
     "execution_count": 3,
     "metadata": {},
     "output_type": "execute_result"
    }
   ],
   "source": [
    "mu, sigma = 5.5, 1.3\n",
    "\n",
    "x_bar = 6.45\n",
    "\n",
    "test_stat = (x_bar - mu) / (sigma/np.sqrt(45))\n",
    "round(test_stat, 2)"
   ]
  },
  {
   "cell_type": "markdown",
   "id": "ed99b8f9",
   "metadata": {},
   "source": [
    "**Insight**\n",
    "\n",
    "*means that AVG of sample flight time is 4.9 above the AVG of population flight time.*"
   ]
  },
  {
   "cell_type": "markdown",
   "id": "7d9fda30",
   "metadata": {},
   "source": [
    "### The Z test statistic follows a standard normal distribution.\n",
    "\n",
    "Let's plot the distribution of the Z test statistic and see where the computed test statistic lies in the plot."
   ]
  },
  {
   "cell_type": "code",
   "execution_count": 4,
   "id": "06e601bb",
   "metadata": {},
   "outputs": [
    {
     "data": {
      "image/png": "[encoded data removed]",
      "text/plain": [
       "<Figure size 576x432 with 1 Axes>"
      ]
     },
     "metadata": {},
     "output_type": "display_data"
    }
   ],
   "source": [
    "from scipy.stats import norm\n",
    "\n",
    "plt.style.use('ggplot')\n",
    "plt.figure(figsize=(8,6))\n",
    "x = np.linspace(-6, 6, 100)\n",
    "plt.plot(x, norm.pdf(x, 0, 1))\n",
    "plt.axvline(x = test_stat, c = '#191970')\n",
    "plt.show()"
   ]
  },
  {
   "cell_type": "markdown",
   "id": "1f3bc2a1",
   "metadata": {},
   "source": [
    "As showen above the z-test statistic is far away from the middle, at the end (the tails).."
   ]
  },
  {
   "cell_type": "markdown",
   "id": "19b42ac1",
   "metadata": {},
   "source": [
    "### The probability of getting the calculated value of test statistic or bigger in the above distribution"
   ]
  },
  {
   "cell_type": "code",
   "execution_count": 5,
   "id": "90282348",
   "metadata": {},
   "outputs": [
    {
     "data": {
      "text/plain": [
       "4.7396938662735977e-07"
      ]
     },
     "execution_count": 5,
     "metadata": {},
     "output_type": "execute_result"
    }
   ],
   "source": [
    "1 - norm.cdf(test_stat)"
   ]
  },
  {
   "cell_type": "markdown",
   "id": "4a01777c",
   "metadata": {},
   "source": [
    "*There's very small chance(0.0000004739)  that the average flight time will more than by 4.9 of the average flight time that the null hypothesis says*"
   ]
  },
  {
   "cell_type": "markdown",
   "id": "fca0cc20",
   "metadata": {},
   "source": [
    "### Rejection Vs. Acceptance Region/ p-value\n",
    "\n",
    "Though the probability is very small, we can not conclude whether the evidence is significant enough to reject the null hypothesis in favor of the alternate hypothesis or not. To determine it, we use either one of the following approaches:\n",
    "\n",
    "- Rejection region approach\n",
    "\n",
    "- p-value approach"
   ]
  },
  {
   "cell_type": "markdown",
   "id": "feea5bb9",
   "metadata": {},
   "source": [
    "In this given situation, the Z test statistic follows a standard normal distribution as shown in the above plot. The Z value lying at the right end of the distribution give strong evidence against the null hypothesis. To find the rejection region, we will find the value of Z (called critical value) that gives an area of 𝛼 to the right end."
   ]
  },
  {
   "cell_type": "markdown",
   "id": "1b66cffe",
   "metadata": {},
   "source": [
    "#### 1.Rejection Region Approach"
   ]
  },
  {
   "cell_type": "code",
   "execution_count": 6,
   "id": "4672ba1f",
   "metadata": {},
   "outputs": [
    {
     "data": {
      "text/plain": [
       "1.6448536269514722"
      ]
     },
     "execution_count": 6,
     "metadata": {},
     "output_type": "execute_result"
    }
   ],
   "source": [
    "from scipy.stats import norm\n",
    "\n",
    "# find the critical value\n",
    "critical_val = norm.ppf(1-.05)#always 1-alpha for the right region when my z-score (test statistic) = positive number\n",
    "critical_val#threshold value"
   ]
  },
  {
   "cell_type": "code",
   "execution_count": 7,
   "id": "6b0ac52c",
   "metadata": {},
   "outputs": [
    {
     "data": {
      "image/png": "[encoded data removed]",
      "text/plain": [
       "<Figure size 576x432 with 1 Axes>"
      ]
     },
     "metadata": {},
     "output_type": "display_data"
    }
   ],
   "source": [
    "plt.figure(figsize=(8,6))\n",
    "x = np.linspace(-6, 6, 100)\n",
    "plt.plot(x, norm.pdf(x, 0, 1))\n",
    "plt.axvline(x = critical_val, c = '#191970', linestyle='--', label='threshold')\n",
    "plt.axvline(x = test_stat, c = '#7D9EC0', label='test statistic')\n",
    "x1 = np.linspace(critical_val, 4, 50)\n",
    "plt.fill_between(x1, norm.pdf(x1, 0, 1), color='#8FBC8F')\n",
    "plt.annotate('Reject Null', (2, 0.12), fontsize=12.5)\n",
    "plt.annotate('Do Not Reject\\n        Null', (-1.3, 0.10), fontsize=12.5)\n",
    "plt.legend(fontsize=12.5)\n",
    "plt.show()"
   ]
  },
  {
   "cell_type": "markdown",
   "id": "4a62f6c0",
   "metadata": {},
   "source": [
    "*when the true mean = 0, there's only 5% of being more than 1.64, in simple words, being in the left side of my threshold value means I'm outside the rejection region, but being in the right side of my threshold value means I'm inside the rejection region of null hyobethesis.*"
   ]
  },
  {
   "cell_type": "markdown",
   "id": "4df70a7a",
   "metadata": {},
   "source": [
    "**Insight**\n",
    "\n",
    "- As our test statistic **(4.9)** does lie in the rejection region, we can reject the null hypothesis in favor of the alternative hypothesis. Thus, we have enough statistical evidence to say that the mean flight time of the trip is greater than 5.5 hours."
   ]
  },
  {
   "cell_type": "markdown",
   "id": "48fdd9d9",
   "metadata": {},
   "source": [
    "#### 2. P-value Approach\n",
    "\n",
    "- Though the rejection region approach gives us the desired conclusion, it does not say anything about the strength of the evidence. Hence, statisticians prefer the p-value approach which measures the strength of the evidence against the null hypothesis.\n",
    "- The p-value is the probability of finding the observed test statistic or more extreme results, under the null hypothesis. "
   ]
  },
  {
   "cell_type": "code",
   "execution_count": 8,
   "id": "1c1475ee",
   "metadata": {},
   "outputs": [
    {
     "data": {
      "text/plain": [
       "4.7396938662735977e-07"
      ]
     },
     "execution_count": 8,
     "metadata": {},
     "output_type": "execute_result"
    }
   ],
   "source": [
    "p_val = 1 - norm.cdf(test_stat)\n",
    "p_val    #true number = (0.0000004739) "
   ]
  },
  {
   "cell_type": "markdown",
   "id": "95530df3",
   "metadata": {},
   "source": [
    "Since our p-value is much small (less than our level of significant = 0.05), we will reject the null hypothesis in favor of the alternative hypothesis, we have a statistical evidence against the null"
   ]
  },
  {
   "cell_type": "markdown",
   "id": "595c3a13",
   "metadata": {},
   "source": [
    "### **Conclusion**\n",
    "\n",
    "- The mean flight time from South Africa to Australia is no longer 5.5 hours , the company was right, they were slipping in the flight time and they have statistical evidence that supports their claim ..\n",
    "\n",
    "-  In business context the company should start to worry about the increment in the mean flight time and investigate more about the reasons that lead to this, and that doesn't happen due to extremes in the sample drawn, when sample may have some of historical casual accidents that led to this result, in this situation they can draw another sample and do the test again , but if they come up with the same result that means the company does have some serious issues that cause this slipping in the mean flight time.."
   ]
  },
  {
   "cell_type": "markdown",
   "id": "720eb628",
   "metadata": {},
   "source": [
    "**Business Problem 2**\n",
    "\n",
    "*A product manager of Adidas, wants to Launch a new product line in a UK market area. A survey of a random sample of 290 households in that market showed a mean income of £32300 per household. The standard deviation based on an earlier pilot study is £8300. the product manager strongly believes that the product line will be adequately profitable only in markets where the mean household income is greater than £30500. product manager wants your help in deciding whether the product line should be introduced in the new market. Perform statistical analysis with a significance level of 0.05 and conclude.*\n",
    "\n",
    "Null Hypothesis: The mean income of households is less than or equal to £30500 \n",
    "\n",
    "$ H_o: \\mu\\leq £ 30500 $\n",
    "\n",
    "Alternate Hypothesis: The mean income of households is greater than £30500\n",
    "\n",
    "$ H_a: \\mu > £ 30500 $"
   ]
  },
  {
   "cell_type": "markdown",
   "id": "bb4d9141",
   "metadata": {},
   "source": [
    "### Are the assumptions of the Z-test satisfied?\n",
    "\n",
    "- Samples are drawn from a normal distribution - Since the sample size is 290 (which is > 30), Central Limit Theorem states that the distribution of sample means will be normal. If the sample size was less than 30, we would have been able to apply the z test if we knew that the population distribution was normal.  \n",
    "- Observations are from a simple random sample - we are informed that the company collected a simple random sample.\n",
    "- Standard deviation is known - Yes."
   ]
  },
  {
   "cell_type": "markdown",
   "id": "a2c6e1a6",
   "metadata": {},
   "source": [
    "### Find the z-test statistic"
   ]
  },
  {
   "cell_type": "code",
   "execution_count": 9,
   "id": "00154144",
   "metadata": {},
   "outputs": [
    {
     "data": {
      "text/plain": [
       "3.69"
      ]
     },
     "execution_count": 9,
     "metadata": {},
     "output_type": "execute_result"
    }
   ],
   "source": [
    "mu, sigma = 30500, 8300\n",
    "\n",
    "x_bar = 32300\n",
    "\n",
    "test_stat = (x_bar - mu) / (sigma/np.sqrt(290))\n",
    "round(test_stat, 2)"
   ]
  },
  {
   "cell_type": "markdown",
   "id": "d2cfa417",
   "metadata": {},
   "source": [
    "### Find the p-value"
   ]
  },
  {
   "cell_type": "code",
   "execution_count": 10,
   "id": "8a3184af",
   "metadata": {},
   "outputs": [
    {
     "data": {
      "text/plain": [
       "0.00011075974173879732"
      ]
     },
     "execution_count": 10,
     "metadata": {},
     "output_type": "execute_result"
    }
   ],
   "source": [
    "p_val = 1 - norm.cdf(test_stat)\n",
    "p_val    "
   ]
  },
  {
   "cell_type": "markdown",
   "id": "f3f5ca30",
   "metadata": {},
   "source": [
    "The p-value is equal to 0.00011 which is less than the significance level of 0.05, we reject the null hypothesis and conclude that the mean income of households is greater than £30500."
   ]
  },
  {
   "cell_type": "markdown",
   "id": "4f37750e",
   "metadata": {},
   "source": [
    "### **Conclusion**\n",
    "\n",
    "- With 95% confidence we conclude that we have enough statistical evidence to say that mean income of household in UK is more than £30500.\n",
    "- The product manager was right about her belief , as the mean income of a household  is more than £30500, the new product line will be profitable in the UK market."
   ]
  },
  {
   "cell_type": "markdown",
   "id": "e5d31a92",
   "metadata": {},
   "source": [
    "## Two-tail Test"
   ]
  },
  {
   "cell_type": "markdown",
   "id": "137e7248",
   "metadata": {},
   "source": [
    "**Business Problem**\n",
    "\n",
    "*It is known from experience that the mean amount of shampoo in a bottle is 250 ml with a standard deviation of 50 ml.*\n",
    "\n",
    "*Suppose the quality control team of the company wants to make sure the mean amount of the shampoo in all the bottles is 250 ml, they have collected 36 randomly sampled bottles.* \n",
    "\n",
    "*The mean amount of shampoo in the 36 samples is 234 ml.*\n",
    "\n",
    "*So we intend help the company quality team to test whether the amount of shampoo in the bottle is different from 250 ml using a 0.05 level of significance. Do we have enough Statistical evidence for it?*\n"
   ]
  },
  {
   "cell_type": "markdown",
   "id": "b3f951a7",
   "metadata": {},
   "source": [
    "The null hypothesis formed by the quality control team is\n",
    "\n",
    ">$H_0: \\mu = 250$ ml\n",
    "\n",
    "against the alternative hypothesis\n",
    "\n",
    "> $H_a: \\mu \\neq 250$ ml"
   ]
  },
  {
   "cell_type": "markdown",
   "id": "dc3f1c45",
   "metadata": {},
   "source": [
    "### Are the assumptions of the Z-test satisfied?\n",
    "\n",
    "- Samples are drawn from a normal distribution - Since the sample size is 45(which is > 30), Central Limit Theorem states that the distribution of sample means will be normal. If the sample size was less than 30, we would have been able to apply the z test if we knew that the population distribution was normal.  \n",
    "- Observations are from a simple random sample - we are informed that the company collected a simple random sample.\n",
    "- Standard deviation is known - Yes."
   ]
  },
  {
   "cell_type": "markdown",
   "id": "a21ddcde",
   "metadata": {},
   "source": [
    "### Find the Z test statistic"
   ]
  },
  {
   "cell_type": "code",
   "execution_count": 11,
   "id": "be0f2aa8",
   "metadata": {},
   "outputs": [
    {
     "data": {
      "text/plain": [
       "-1.92"
      ]
     },
     "execution_count": 11,
     "metadata": {},
     "output_type": "execute_result"
    }
   ],
   "source": [
    "mu, sigma = 250, 50\n",
    "\n",
    "x_bar = 234\n",
    "\n",
    "test_stat = (x_bar - mu) / (sigma/np.sqrt(36))\n",
    "round(test_stat, 2)"
   ]
  },
  {
   "cell_type": "markdown",
   "id": "3f1fdfab",
   "metadata": {},
   "source": [
    "### Rejection Vs. Acceptance Region/ p-value"
   ]
  },
  {
   "cell_type": "markdown",
   "id": "b306cf25",
   "metadata": {},
   "source": [
    "#### 1. The rejection region approach for the two-tailed test"
   ]
  },
  {
   "cell_type": "code",
   "execution_count": 12,
   "id": "7fa44a7d",
   "metadata": {},
   "outputs": [
    {
     "data": {
      "text/plain": [
       "(1.959963984540054, -1.9599639845400545)"
      ]
     },
     "execution_count": 12,
     "metadata": {},
     "output_type": "execute_result"
    }
   ],
   "source": [
    "# find the critical values\n",
    "critical_val1 = norm.ppf(1-(0.05/2))#right side 1 - alpha , divide by 2 >> two-tail test\n",
    "critical_val2 = norm.ppf(0.05/2)#left side alpha / 2 >> two-tail test\n",
    "\n",
    "critical_val1, critical_val2"
   ]
  },
  {
   "cell_type": "code",
   "execution_count": 13,
   "id": "39c11d7c",
   "metadata": {},
   "outputs": [
    {
     "data": {
      "image/png": "[encoded data removed]",
      "text/plain": [
       "<Figure size 576x432 with 1 Axes>"
      ]
     },
     "metadata": {},
     "output_type": "display_data"
    }
   ],
   "source": [
    "from scipy.stats import norm\n",
    "\n",
    "plt.figure(figsize=(8,6))\n",
    "x = np.linspace(-4, 4, 100)\n",
    "plt.plot(x, norm.pdf(x, 0, 1))\n",
    "plt.axvline(x = critical_val1, linestyle='--', c = '#191970', label='critical value 1')\n",
    "x1 = np.linspace(critical_val1, 4, 50)\n",
    "plt.fill_between(x1, norm.pdf(x1, 0, 1), color='#8FBC8F')\n",
    "plt.axvline(x = critical_val2, linestyle='--', c = '#191970', label='critical value 2')\n",
    "x1 = np.linspace(-4, critical_val2, 50)\n",
    "plt.fill_between(x1, norm.pdf(x1, 0, 1), color='#8FBC8F')\n",
    "plt.axvline(x = test_stat, c = '#EE1289', label='test statistic')\n",
    "plt.annotate('Reject Null', (2.2, 0.20), fontsize=12.5)\n",
    "plt.annotate('Reject Null', (-3.5, 0.20), fontsize=12.5)\n",
    "plt.annotate('  Do Not Reject\\n          Null', (-1, 0.20), fontsize=12.5)\n",
    "plt.legend()\n",
    "plt.show()"
   ]
  },
  {
   "cell_type": "markdown",
   "id": "c6bb64b2",
   "metadata": {},
   "source": [
    "As our test statistic **(-1.92)** lies ouside the rejection region (it's very close to the threshold value - the rejection region), we can't reject the null hypothesis. Thus, we don't have enough statistical evidence to say that the mean amount of shampoo in the bottle is different from 250 ml."
   ]
  },
  {
   "cell_type": "markdown",
   "id": "c6872e3f",
   "metadata": {},
   "source": [
    "#### 2. The p-value approach for the two-tailed test"
   ]
  },
  {
   "cell_type": "code",
   "execution_count": 14,
   "id": "ee46c39e",
   "metadata": {},
   "outputs": [
    {
     "data": {
      "text/plain": [
       "0.054857899407673605"
      ]
     },
     "execution_count": 14,
     "metadata": {},
     "output_type": "execute_result"
    }
   ],
   "source": [
    "p_val = stats.norm.sf(abs(test_stat))*2\n",
    "p_val"
   ]
  },
  {
   "cell_type": "markdown",
   "id": "4aa495d8",
   "metadata": {},
   "source": [
    "A p-value of 0.054 is greater than level of significant = 0.05. \n",
    "\n",
    "We don't have a significant evidence to say the mean amount of shampoo bottle is diffrenet from the mean amount of 250 ml, thus we failed to reject the null hypothesis, the mean amount of shampoo bottles is 250 ml."
   ]
  },
  {
   "cell_type": "markdown",
   "id": "9ec38d7e",
   "metadata": {},
   "source": [
    "### **Conclusion**\n",
    "\n",
    "- We are 95% sure that the mean amount of the shampoo bottles is 250 ml, the mean amount could differ from bottle to bottle but not more than 5% of 250 ml..\n",
    "\n",
    "- In other words, it's not necessarily the mean amount of shampoo in the bottles that is exactly 250 ml, it could be less than that, but not by a huge observed difference from 250 ml in which the quality team should take in consideration .."
   ]
  },
  {
   "cell_type": "markdown",
   "id": "c224868a",
   "metadata": {},
   "source": [
    "# OR\n",
    "\n",
    "We could re-formulate the claim to come up to one-tail test.."
   ]
  },
  {
   "cell_type": "markdown",
   "id": "f0c7d820",
   "metadata": {},
   "source": [
    "## One-tail Test"
   ]
  },
  {
   "cell_type": "markdown",
   "id": "5c353375",
   "metadata": {},
   "source": [
    "**Business Problem 3**\n",
    "\n",
    "*It is known from experience that the mean amount of shampoo in a bottle is 250 ml with a standard deviation of 50 ml.*\n",
    "\n",
    "*Suppose there's a customer who claimed that the mean amount  of the shampoo in the bottles is less than  250 ml ,  so we have collected 36 randomly sampled bottles.*\n",
    "\n",
    "*The mean amount of shampoo in the 36 samples is 234 ml.*\n",
    "\n",
    "*So we intend help the quality team to test if the customer is right about  the mean amount of shampoo in the bottle is less than from 250 ml or not, using a 0.05 level of significance. Do we have enough Statistical evidence for it?*"
   ]
  },
  {
   "cell_type": "markdown",
   "id": "a258053d",
   "metadata": {},
   "source": [
    "The null hypothesis \n",
    "\n",
    ">$H_0: \\mu = 250$ ml\n",
    "\n",
    "against the alternative hypothesis\n",
    "\n",
    "> $H_a: \\mu < 250$ ml"
   ]
  },
  {
   "cell_type": "markdown",
   "id": "98a6b4d6",
   "metadata": {},
   "source": [
    "### Are the assumptions of the Z-test satisfied?\n",
    "\n",
    "- Samples are drawn from a normal distribution - Since the sample size is 45(which is > 30), Central Limit Theorem states that the distribution of sample means will be normal. If the sample size was less than 30, we would have been able to apply the z test if we knew that the population distribution was normal.  \n",
    "- Observations are from a simple random sample - we are informed that the company collected a simple random sample.\n",
    "- Standard deviation is known - Yes."
   ]
  },
  {
   "cell_type": "markdown",
   "id": "faf58270",
   "metadata": {},
   "source": [
    "### Find the Z test statistic"
   ]
  },
  {
   "cell_type": "code",
   "execution_count": 15,
   "id": "38f11b54",
   "metadata": {},
   "outputs": [
    {
     "data": {
      "text/plain": [
       "-1.92"
      ]
     },
     "execution_count": 15,
     "metadata": {},
     "output_type": "execute_result"
    }
   ],
   "source": [
    "mu, sigma = 250, 50\n",
    "\n",
    "x_bar = 234\n",
    "\n",
    "test_stat = (x_bar - mu) / (sigma/np.sqrt(36))\n",
    "round(test_stat, 2)"
   ]
  },
  {
   "cell_type": "markdown",
   "id": "ccfe2d99",
   "metadata": {},
   "source": [
    "### Rejection Vs. Acceptance Region/ p-value"
   ]
  },
  {
   "cell_type": "markdown",
   "id": "1f3b349c",
   "metadata": {},
   "source": [
    "#### 1. The rejection region approach "
   ]
  },
  {
   "cell_type": "code",
   "execution_count": 16,
   "id": "e1d8c8fd",
   "metadata": {},
   "outputs": [
    {
     "data": {
      "text/plain": [
       "-1.6448536269514729"
      ]
     },
     "execution_count": 16,
     "metadata": {},
     "output_type": "execute_result"
    }
   ],
   "source": [
    "# find the critical values\n",
    "critical_val = norm.ppf(0.05)\n",
    "critical_val"
   ]
  },
  {
   "cell_type": "code",
   "execution_count": 17,
   "id": "8d1769eb",
   "metadata": {},
   "outputs": [
    {
     "data": {
      "image/png": "[encoded data removed]",
      "text/plain": [
       "<Figure size 576x432 with 1 Axes>"
      ]
     },
     "metadata": {},
     "output_type": "display_data"
    }
   ],
   "source": [
    "from scipy.stats import norm\n",
    "\n",
    "plt.figure(figsize=(8,6))\n",
    "x = np.linspace(-4, 4, 100)\n",
    "plt.plot(x, norm.pdf(x, 0, 1))\n",
    "plt.axvline(x = critical_val, linestyle='--', c = '#191970', label='critical value')\n",
    "x1 = np.linspace(-4, critical_val, 50)\n",
    "plt.fill_between(x1, norm.pdf(x1, 0, 1), color='#8FBC8F')\n",
    "plt.axvline(x = test_stat, c = '#EE1289', label='test statistic')\n",
    "plt.annotate('Reject Null', (-3.5, 0.20), fontsize=12.5)\n",
    "plt.annotate('  Do Not Reject\\n          Null', (-1, 0.20), fontsize=12.5)\n",
    "plt.legend(fontsize=12.5)\n",
    "plt.show()"
   ]
  },
  {
   "cell_type": "markdown",
   "id": "078f6399",
   "metadata": {},
   "source": [
    "As our test statistic **(-1.92)** lies inside the rejection region, we can reject the null hypothesis. Thus, we do have enough statistical evidence to say that the mean amount of shampoo in the bottle is less than 250 ml."
   ]
  },
  {
   "cell_type": "code",
   "execution_count": 18,
   "id": "d837df28",
   "metadata": {},
   "outputs": [
    {
     "data": {
      "text/plain": [
       "0.027428949703836802"
      ]
     },
     "execution_count": 18,
     "metadata": {},
     "output_type": "execute_result"
    }
   ],
   "source": [
    "p_val = stats.norm.sf(abs(test_stat))\n",
    "p_val"
   ]
  },
  {
   "cell_type": "markdown",
   "id": "80d4faf6",
   "metadata": {},
   "source": [
    "A p-value of 0.027 is less than level of significant = 0.05. \n",
    "\n",
    "We do have a significant evidence to say the mean amount of shampoo bottle is less than the mean amount of 250 ml, thus we reject the null hypothesis in favor of the alternative hypothesis, the mean amount of shampoo bottles is less than 250 ml."
   ]
  },
  {
   "cell_type": "markdown",
   "id": "2b4259ae",
   "metadata": {},
   "source": [
    "### **Conclusion**\n",
    "\n",
    "- The company quality team known that the customer was right about his/her claim from the result of the previous two-tail hypothesis test , the mean amount of the shampoo in the bottles is not necessarily is exactly 250 ml and it could be differ from bottle to the other, however since they are not below the mean amount of 250 ml by significant observed difference, then there’s no need to start to be worried.."
   ]
  }
 ],
 "metadata": {
  "kernelspec": {
   "display_name": "Python 3 (ipykernel)",
   "language": "python",
   "name": "python3"
  },
  "language_info": {
   "codemirror_mode": {
    "name": "ipython",
    "version": 3
   },
   "file_extension": ".py",
   "mimetype": "text/x-python",
   "name": "python",
   "nbconvert_exporter": "python",
   "pygments_lexer": "ipython3",
   "version": "3.9.12"
  }
 },
 "nbformat": 4,
 "nbformat_minor": 5
}
