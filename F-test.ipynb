{
 "cells": [
  {
   "cell_type": "code",
   "execution_count": 1,
   "id": "42585c68",
   "metadata": {},
   "outputs": [],
   "source": [
    "import pandas as pd  \n",
    "import numpy as np  \n",
    "import matplotlib.pyplot as plt  \n",
    "import seaborn as sns  \n",
    "\n",
    "%matplotlib inline\n",
    "\n",
    "import scipy.stats as stats \n",
    "import random"
   ]
  },
  {
   "cell_type": "markdown",
   "id": "98339005",
   "metadata": {},
   "source": [
    "# **F-test for Equality of Variances**"
   ]
  },
  {
   "cell_type": "markdown",
   "id": "f485c99e",
   "metadata": {},
   "source": [
    "**Business Problem**\n",
    "\n",
    "*A sports blogger published a post that discusses how the distance(km) covered between two groups of runners the TCS London Marathon route and TCS New York City Marathon route is actually vary.*\n",
    "\n",
    "*The data (runners_data.csv) includes the distance (km) that each runner covered for two different groups of runners of two different marathons. It is assumed that the distance (km) that runners take to finish the routes for two sets of runners follow a normal distribution.*\n",
    "\n",
    "*Do we have enough statistical evidence at a 5% significance level to conclude that there is a significant difference between the variances of the running distance (km) for the two groups?*\n",
    "\n",
    "Let $\\sigma_1^2, \\sigma_2^2$ be the variances of distance of the runners covered by two different groups.\n",
    "\n",
    "We will test the null hypothesis\n",
    "\n",
    ">$H_0:\\sigma_1^2 = \\sigma_2^2$\n",
    "\n",
    "against the alternate hypothesis\n",
    "\n",
    ">$H_a:\\sigma_1^2 \\neq \\sigma_2^2$"
   ]
  },
  {
   "cell_type": "code",
   "execution_count": 2,
   "id": "a9533eb5",
   "metadata": {},
   "outputs": [
    {
     "data": {
      "text/html": [
       "<div>\n",
       "<style scoped>\n",
       "    .dataframe tbody tr th:only-of-type {\n",
       "        vertical-align: middle;\n",
       "    }\n",
       "\n",
       "    .dataframe tbody tr th {\n",
       "        vertical-align: top;\n",
       "    }\n",
       "\n",
       "    .dataframe thead th {\n",
       "        text-align: right;\n",
       "    }\n",
       "</style>\n",
       "<table border=\"1\" class=\"dataframe\">\n",
       "  <thead>\n",
       "    <tr style=\"text-align: right;\">\n",
       "      <th></th>\n",
       "      <th>marthon1_distance</th>\n",
       "      <th>marthon2_distance</th>\n",
       "    </tr>\n",
       "  </thead>\n",
       "  <tbody>\n",
       "    <tr>\n",
       "      <th>0</th>\n",
       "      <td>21.46</td>\n",
       "      <td>18.03</td>\n",
       "    </tr>\n",
       "    <tr>\n",
       "      <th>1</th>\n",
       "      <td>21.73</td>\n",
       "      <td>18.15</td>\n",
       "    </tr>\n",
       "    <tr>\n",
       "      <th>2</th>\n",
       "      <td>20.94</td>\n",
       "      <td>18.42</td>\n",
       "    </tr>\n",
       "  </tbody>\n",
       "</table>\n",
       "</div>"
      ],
      "text/plain": [
       "   marthon1_distance  marthon2_distance\n",
       "0              21.46              18.03\n",
       "1              21.73              18.15\n",
       "2              20.94              18.42"
      ]
     },
     "execution_count": 2,
     "metadata": {},
     "output_type": "execute_result"
    }
   ],
   "source": [
    "run_data = pd.read_csv('runners_data.csv')\n",
    "run_data.drop(columns = ['Unnamed: 0'], inplace=True)\n",
    "run_data.head(3)"
   ]
  },
  {
   "cell_type": "markdown",
   "id": "935b0832",
   "metadata": {},
   "source": [
    "### Are the assumptions of the F-test are satisfied or not?\n",
    "\n",
    "- Continuous data - Yes, the distance(km) is measured on a continuous scale.\n",
    "- Normally distributed populations - Yes, it is assumed that the populations are normally distributed.\n",
    "- Independent populations - As the two sets of runners from two different marathons, the populations are independent.\n",
    "- Random sampling from the population - Yes, we are informed that the collected sample is a simple random sample."
   ]
  },
  {
   "cell_type": "markdown",
   "id": "9ac827a5",
   "metadata": {},
   "source": [
    "### Let's find the p-value, f-test statistic"
   ]
  },
  {
   "cell_type": "code",
   "execution_count": 3,
   "id": "f488b2cd",
   "metadata": {},
   "outputs": [],
   "source": [
    "from scipy.stats import f\n",
    "\n",
    "def f_test(x, y):\n",
    "    x = np.array(x)\n",
    "    y = np.array(y) \n",
    "    test_stat = np.var(x, ddof = 1)/np.var(y, ddof = 1) \n",
    "    dfn = x.size-1  \n",
    "    dfd = y.size-1 \n",
    "    p = (1 - f.cdf(test_stat, dfn, dfd))  \n",
    "    p1 = p*2 \n",
    "    return(print(\"The p_value is {}\" .format(round(p1,8)))) "
   ]
  },
  {
   "cell_type": "code",
   "execution_count": 4,
   "id": "9784f915",
   "metadata": {},
   "outputs": [
    {
     "name": "stdout",
     "output_type": "stream",
     "text": [
      "The p_value is 1.42045181\n"
     ]
    }
   ],
   "source": [
    "f_test(run_data.dropna()['marthon1_distance'], run_data.dropna()['marthon2_distance'])"
   ]
  },
  {
   "cell_type": "markdown",
   "id": "f7be5167",
   "metadata": {},
   "source": [
    "A p-value of 1.420 is greater than the level of significance 0.05, thus, we failed to reject the null hypothesis. We didn't have enough statistical evidence to say there's significant variation in distance (km) that is covered by the two groups."
   ]
  },
  {
   "cell_type": "markdown",
   "id": "d9506f17",
   "metadata": {},
   "source": [
    "### **Conclusion**\n",
    "\n",
    "- We can conclude that : at the significance level 0.05, the variation in the distance(km) covered by two groups is approximately the same, there's not much variation between them."
   ]
  }
 ],
 "metadata": {
  "kernelspec": {
   "display_name": "Python 3 (ipykernel)",
   "language": "python",
   "name": "python3"
  },
  "language_info": {
   "codemirror_mode": {
    "name": "ipython",
    "version": 3
   },
   "file_extension": ".py",
   "mimetype": "text/x-python",
   "name": "python",
   "nbconvert_exporter": "python",
   "pygments_lexer": "ipython3",
   "version": "3.9.12"
  }
 },
 "nbformat": 4,
 "nbformat_minor": 5
}
