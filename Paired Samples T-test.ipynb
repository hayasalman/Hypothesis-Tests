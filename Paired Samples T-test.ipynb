{
 "cells": [
  {
   "cell_type": "code",
   "execution_count": 1,
   "id": "cd3915fd",
   "metadata": {},
   "outputs": [],
   "source": [
    "import pandas as pd  \n",
    "import numpy as np  \n",
    "import matplotlib.pyplot as plt  \n",
    "import seaborn as sns  \n",
    "\n",
    "%matplotlib inline\n",
    "\n",
    "import scipy.stats as stats \n",
    "import random"
   ]
  },
  {
   "cell_type": "markdown",
   "id": "d9bf345a",
   "metadata": {},
   "source": [
    "# **Paired Sample T-test for Equality of Means**"
   ]
  },
  {
   "cell_type": "markdown",
   "id": "58fd8b4c",
   "metadata": {},
   "source": [
    "**Business Problem 1**\n",
    "\n",
    "*Suppose a healthy Nutrition App wants to introduce new diet program and they interested to know if the new program is helps to improve the weight loss of their clients , therefore they randomly selected sample of  15 clients weights (kg) data before and after the program.*\n",
    "\n",
    "*Assuming the clients weights are normally distributed, do we have enough statistical evidence to say that there is a descrease in the body weight at a 0.05 significance level?*\n",
    "\n",
    "We will test the null hypothesis\n",
    "\n",
    ">$H_0:\\mu new = \\mu old$\n",
    "\n",
    "against the alternate hypothesis\n",
    "\n",
    ">$H_a:\\mu new <\\mu old$"
   ]
  },
  {
   "cell_type": "code",
   "execution_count": 2,
   "id": "76f6f0f5",
   "metadata": {},
   "outputs": [
    {
     "data": {
      "text/html": [
       "<div>\n",
       "<style scoped>\n",
       "    .dataframe tbody tr th:only-of-type {\n",
       "        vertical-align: middle;\n",
       "    }\n",
       "\n",
       "    .dataframe tbody tr th {\n",
       "        vertical-align: top;\n",
       "    }\n",
       "\n",
       "    .dataframe thead th {\n",
       "        text-align: right;\n",
       "    }\n",
       "</style>\n",
       "<table border=\"1\" class=\"dataframe\">\n",
       "  <thead>\n",
       "    <tr style=\"text-align: right;\">\n",
       "      <th></th>\n",
       "      <th>id</th>\n",
       "      <th>old_weight(kg)</th>\n",
       "      <th>new_weight(kg)</th>\n",
       "    </tr>\n",
       "  </thead>\n",
       "  <tbody>\n",
       "    <tr>\n",
       "      <th>0</th>\n",
       "      <td>1235</td>\n",
       "      <td>112.98</td>\n",
       "      <td>86.21</td>\n",
       "    </tr>\n",
       "    <tr>\n",
       "      <th>1</th>\n",
       "      <td>1616</td>\n",
       "      <td>115.76</td>\n",
       "      <td>84.71</td>\n",
       "    </tr>\n",
       "    <tr>\n",
       "      <th>2</th>\n",
       "      <td>1998</td>\n",
       "      <td>115.32</td>\n",
       "      <td>84.28</td>\n",
       "    </tr>\n",
       "    <tr>\n",
       "      <th>3</th>\n",
       "      <td>2379</td>\n",
       "      <td>113.89</td>\n",
       "      <td>85.37</td>\n",
       "    </tr>\n",
       "    <tr>\n",
       "      <th>4</th>\n",
       "      <td>2761</td>\n",
       "      <td>115.01</td>\n",
       "      <td>83.96</td>\n",
       "    </tr>\n",
       "  </tbody>\n",
       "</table>\n",
       "</div>"
      ],
      "text/plain": [
       "     id  old_weight(kg)  new_weight(kg)\n",
       "0  1235          112.98           86.21\n",
       "1  1616          115.76           84.71\n",
       "2  1998          115.32           84.28\n",
       "3  2379          113.89           85.37\n",
       "4  2761          115.01           83.96"
      ]
     },
     "execution_count": 2,
     "metadata": {},
     "output_type": "execute_result"
    }
   ],
   "source": [
    "nutrition_data = pd.read_csv('nutrition_data.csv')\n",
    "nutrition_data.drop(columns = ['Unnamed: 0'], inplace=True)\n",
    "nutrition_data.head(5)"
   ]
  },
  {
   "cell_type": "code",
   "execution_count": 3,
   "id": "9a40698f",
   "metadata": {},
   "outputs": [
    {
     "name": "stdout",
     "output_type": "stream",
     "text": [
      "The mean of the differences between the weight loss of the old program and the new program : 29.74\n"
     ]
    }
   ],
   "source": [
    "diff = np.mean(nutrition_data['old_weight(kg)'] - nutrition_data['new_weight(kg)'])\n",
    "print('The mean of the differences between the weight loss of the old program and the new program :', round(diff, 2))"
   ]
  },
  {
   "cell_type": "markdown",
   "id": "1ce1e09c",
   "metadata": {},
   "source": [
    "### Are the paired T-test assumptions are satisfied or not?\n",
    "\n",
    "- Continuous data - Yes, the weigh(kg) is measured on a continuous scale.\n",
    "- Normally distributed populations - Yes, we are informed that the populations are assumed to be normal.\n",
    "- Independent observations - As we are taking the sampled unit randomly, the observed units are independent.\n",
    "- Random sampling from the population - Yes, we are informed that the collected sample is a simple random sample."
   ]
  },
  {
   "cell_type": "markdown",
   "id": "4eabab23",
   "metadata": {},
   "source": [
    "### Find the t-test statistic and p-value"
   ]
  },
  {
   "cell_type": "code",
   "execution_count": 4,
   "id": "d40cd177",
   "metadata": {},
   "outputs": [
    {
     "name": "stdout",
     "output_type": "stream",
     "text": [
      "The p-value is : 9.650620343805655e-21, the t-test statistic is : -85.5769483670576\n"
     ]
    }
   ],
   "source": [
    "from scipy.stats import ttest_rel\n",
    "\n",
    "test_stat, p_value = ttest_rel(nutrition_data['new_weight(kg)'], nutrition_data['old_weight(kg)'], alternative = 'less')\n",
    "print('The p-value is : {}, the t-test statistic is : {}'.format(str(p_value),str(test_stat)))"
   ]
  },
  {
   "cell_type": "markdown",
   "id": "bb10918a",
   "metadata": {},
   "source": [
    "p-value is very small than the level of significance 0.05, thus we can reject the null hypothesis with 95% confidence."
   ]
  },
  {
   "cell_type": "markdown",
   "id": "e9af9bb7",
   "metadata": {},
   "source": [
    "### **Conclusion**\n",
    "\n",
    "- Practically speaking, losing weight by 29.74 kg is a significant observed difference from the old program for the nutrition app to adopt the new diet program. \n",
    "- In addition , based on the test result we have an enough statistical evidence to say that the new diet program has improved the weight loss process..\n"
   ]
  },
  {
   "cell_type": "markdown",
   "id": "f3f33f9e",
   "metadata": {},
   "source": [
    "**Business Problem 2**\n",
    "\n",
    "*Suppose we are interested into invest in (NYSE) Stock Exchange Market, so we randomly selected 30 different companies stocks prices from stock prices in Apr 2023 and stock prices in May 2023, but before we invest, we want to know if is there a significant change in the market prices between these two months, so we can decide if will go for it or not.*\n",
    "\n",
    "*Assuming the stock prices are normally distributed, do we have enough statistical evidence to say that there is an increase in the market between two months at a 0.05 significance level?*\n",
    "\n",
    "**Formulate null hypothesis and alternate hypothesis.**\n",
    "\n",
    "- H<sub>0</sub>: x2 - x1 = 0 - The mean difference between the two samples is equal to zero.\n",
    "- H<sub>a</sub>: x2 - x1 != 0 - The mean difference between the two samples is not equal to zero."
   ]
  },
  {
   "cell_type": "code",
   "execution_count": 5,
   "id": "d98eb623",
   "metadata": {},
   "outputs": [
    {
     "data": {
      "text/html": [
       "<div>\n",
       "<style scoped>\n",
       "    .dataframe tbody tr th:only-of-type {\n",
       "        vertical-align: middle;\n",
       "    }\n",
       "\n",
       "    .dataframe tbody tr th {\n",
       "        vertical-align: top;\n",
       "    }\n",
       "\n",
       "    .dataframe thead th {\n",
       "        text-align: right;\n",
       "    }\n",
       "</style>\n",
       "<table border=\"1\" class=\"dataframe\">\n",
       "  <thead>\n",
       "    <tr style=\"text-align: right;\">\n",
       "      <th></th>\n",
       "      <th>symbol</th>\n",
       "      <th>stock_price_april_2023</th>\n",
       "      <th>stock_price_may_2023</th>\n",
       "    </tr>\n",
       "  </thead>\n",
       "  <tbody>\n",
       "    <tr>\n",
       "      <th>0</th>\n",
       "      <td>GOEV</td>\n",
       "      <td>240.57</td>\n",
       "      <td>611.22</td>\n",
       "    </tr>\n",
       "    <tr>\n",
       "      <th>1</th>\n",
       "      <td>CSCO</td>\n",
       "      <td>165.76</td>\n",
       "      <td>654.08</td>\n",
       "    </tr>\n",
       "    <tr>\n",
       "      <th>2</th>\n",
       "      <td>MARA</td>\n",
       "      <td>174.39</td>\n",
       "      <td>598.98</td>\n",
       "    </tr>\n",
       "  </tbody>\n",
       "</table>\n",
       "</div>"
      ],
      "text/plain": [
       "  symbol  stock_price_april_2023  stock_price_may_2023\n",
       "0   GOEV                  240.57                611.22\n",
       "1   CSCO                  165.76                654.08\n",
       "2   MARA                  174.39                598.98"
      ]
     },
     "execution_count": 5,
     "metadata": {},
     "output_type": "execute_result"
    }
   ],
   "source": [
    "nyse_data = pd.read_csv('NYSE_stock_prices.csv')\n",
    "nyse_data.drop(columns = ['Unnamed: 0'], inplace=True)\n",
    "nyse_data.head(3)"
   ]
  },
  {
   "cell_type": "code",
   "execution_count": 6,
   "id": "fe221519",
   "metadata": {},
   "outputs": [
    {
     "name": "stdout",
     "output_type": "stream",
     "text": [
      "The mean of the differences between the stock prices in Apr 2023 and May 2023 : 393.39\n"
     ]
    }
   ],
   "source": [
    "diff = np.mean(nyse_data['stock_price_may_2023'] - nyse_data['stock_price_april_2023'])\n",
    "print('The mean of the differences between the stock prices in Apr 2023 and May 2023 :', round(diff, 2))"
   ]
  },
  {
   "cell_type": "markdown",
   "id": "f6d37e1b",
   "metadata": {},
   "source": [
    "### Are the paired T-test assumptions are satisfied or not?\n",
    "\n",
    "- Continuous data - Yes, the stock price is measured on a continuous scale.\n",
    "- Normally distributed populations - Yes, we are informed that the populations are assumed to be normal.\n",
    "- Independent observations - As we are taking the sampled unit randomly, the observed units are independent.\n",
    "- Random sampling from the population - Yes, we are informed that the collected sample is a simple random sample."
   ]
  },
  {
   "cell_type": "code",
   "execution_count": 7,
   "id": "264f73e3",
   "metadata": {},
   "outputs": [
    {
     "name": "stdout",
     "output_type": "stream",
     "text": [
      "the test statistic : -36.405982942945826, the p-value : 9.243844049014443e-26\n"
     ]
    }
   ],
   "source": [
    "from scipy.stats import ttest_rel\n",
    "\n",
    "test_stat, p_value = ttest_rel(nyse_data['stock_price_april_2023'],nyse_data['stock_price_may_2023'] , alternative = 'two-sided')\n",
    "\n",
    "result= f'the test statistic : {test_stat}, the p-value : { p_value}'\n",
    "print(result)"
   ]
  },
  {
   "cell_type": "markdown",
   "id": "d4c970c2",
   "metadata": {},
   "source": [
    "Since the p-value is much smaller than 0.05 (alpha), we reject the null hypothesis and conclude that the mean difference between the two populations is not equal to zero and there is a significant difference between them."
   ]
  },
  {
   "cell_type": "markdown",
   "id": "32fac54e",
   "metadata": {},
   "source": [
    "### **Conclusion**\n",
    "\n",
    "- We are 95% confident that the stock prices have been increased from Apr 2023 to May 2023.\n",
    "- In addition , based on the test result we have enough statistical evidence to say that the stock prices have increased from Apr 2023 to May 2023, with an observed increment by 393.39."
   ]
  }
 ],
 "metadata": {
  "kernelspec": {
   "display_name": "Python 3 (ipykernel)",
   "language": "python",
   "name": "python3"
  },
  "language_info": {
   "codemirror_mode": {
    "name": "ipython",
    "version": 3
   },
   "file_extension": ".py",
   "mimetype": "text/x-python",
   "name": "python",
   "nbconvert_exporter": "python",
   "pygments_lexer": "ipython3",
   "version": "3.9.12"
  }
 },
 "nbformat": 4,
 "nbformat_minor": 5
}
