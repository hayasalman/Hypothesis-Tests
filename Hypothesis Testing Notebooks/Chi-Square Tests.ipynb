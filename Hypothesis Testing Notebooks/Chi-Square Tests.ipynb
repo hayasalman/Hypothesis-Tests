{
 "cells": [
  {
   "cell_type": "code",
   "execution_count": 1,
   "id": "2b082a63",
   "metadata": {},
   "outputs": [],
   "source": [
    "import pandas as pd  \n",
    "import numpy as np  \n",
    "import matplotlib.pyplot as plt  \n",
    "import seaborn as sns  \n",
    "\n",
    "%matplotlib inline\n",
    "\n",
    "import scipy.stats as stats \n",
    "import random"
   ]
  },
  {
   "cell_type": "markdown",
   "id": "51c89f74",
   "metadata": {},
   "source": [
    "# 1.**Chi-Square Test for Variance**"
   ]
  },
  {
   "cell_type": "markdown",
   "id": "21c90e5b",
   "metadata": {},
   "source": [
    "**Business Problem 1**\n",
    "\n",
    "*It is estimated that the standard deviation for the annual financial penalties of traffic of China provinces is 12.5% when all such financial penalties are considered and over a long period. The sample standard deviation of a certain province's cities financial penalties based on a random sample of size 32 is observed to be 24.3%.*\n",
    "\n",
    "\n",
    "*Do we have enough evidence to claim that the standard deviation of the chosen province is greater than the estimated standard deviation for the financial penalties of traffic of China provinces at a 0.05 level of significance?*\n",
    "\n",
    "Let $\\sigma$ be the average standard deviation of the financial penalties.\n",
    "\n",
    "We will test the null hypothesis\n",
    "\n",
    ">$H_0:\\sigma^2 = 12.5^2$\n",
    "\n",
    "against the alternate hypothesis\n",
    "\n",
    ">$H_a:\\sigma^2 > 24.3^2$"
   ]
  },
  {
   "cell_type": "markdown",
   "id": "54b9eedd",
   "metadata": {},
   "source": [
    "### Are the assumptions are satisfied or not?\n",
    "\n",
    "- Continuous data - Yes\n",
    "- Normally distributed population - Since the sample sizes are greater than 30, Central Limit Theorem states that the distribution of sample means will be normal.\n",
    "- Random sampling from the population - Yes, we are informed that the collected sample is a simple random sample.   "
   ]
  },
  {
   "cell_type": "markdown",
   "id": "a7b5b5cf",
   "metadata": {},
   "source": [
    "### Let's find the p-value"
   ]
  },
  {
   "cell_type": "code",
   "execution_count": 2,
   "id": "514fd9a0",
   "metadata": {},
   "outputs": [],
   "source": [
    "from scipy.stats import chi2\n",
    "\n",
    "def chi_var(pop_var, sample_var, n):\n",
    "    test_stat = (n - 1) * sample_var / pop_var\n",
    "    p_value = 1 - chi2.cdf(test_stat, n-1)\n",
    "    return (test_stat, p_value)"
   ]
  },
  {
   "cell_type": "code",
   "execution_count": 3,
   "id": "64797e61",
   "metadata": {},
   "outputs": [
    {
     "name": "stdout",
     "output_type": "stream",
     "text": [
      "The p-value is : 6.139422303874653e-12, the t-test statistic is : 117.15\n"
     ]
    }
   ],
   "source": [
    "n = 32\n",
    "sigma_2, s_2 = 12.5**2, 24.3**2\n",
    "\n",
    "test_stat, p_value = chi_var(sigma_2, s_2, n)\n",
    "\n",
    "print('The p-value is : {}, the t-test statistic is : {}'.format(str(p_value), str(round(test_stat, 2))))"
   ]
  },
  {
   "cell_type": "markdown",
   "id": "cb1ec536",
   "metadata": {},
   "source": [
    "As p-value is much smaller than the level of significance 0.05, we reject the null in favor of the alternative hypothesis. We have enough significant statistical evidence to support our alternative."
   ]
  },
  {
   "cell_type": "code",
   "execution_count": 5,
   "id": "18c58562",
   "metadata": {},
   "outputs": [
    {
     "data": {
      "image/png": "[encoded data removed]",
      "text/plain": [
       "<Figure size 576x432 with 1 Axes>"
      ]
     },
     "metadata": {},
     "output_type": "display_data"
    }
   ],
   "source": [
    "plt.style.use('ggplot')\n",
    "\n",
    "plt.figure(figsize=(8,6))\n",
    "x = np.linspace(0, 150, 100)\n",
    "plt.plot(x, chi2.pdf(x, n-1))\n",
    "plt.axvline(x = test_stat, c = '#191970', label='test statistic')\n",
    "plt.title('Chi-Square Distribution (degrees of freedom n-1)')\n",
    "plt.legend()\n",
    "plt.show()"
   ]
  },
  {
   "cell_type": "markdown",
   "id": "afb1743a",
   "metadata": {},
   "source": [
    "### **Conclusion**\n",
    "\n",
    "- With 95% confidence we conclude that we have enough statistical evidence to say that the AVG standard deviation of the selected province is greater than the AVG standard deviation of China provinces."
   ]
  },
  {
   "cell_type": "markdown",
   "id": "8286f1d0",
   "metadata": {},
   "source": [
    "# 2. **Chi-Square Test for Independence**"
   ]
  },
  {
   "cell_type": "markdown",
   "id": "6e137472",
   "metadata": {},
   "source": [
    "**Business Problem 2**\n",
    "\n",
    "*We suppose that VOX Cinema had been collecting data about their clients for a while, and they were interested to know if there's a kind of relationship  between the movies' preferences for different marital status.*\n",
    "\n",
    "*A randomly selected sample of clients movies preference data for different marital status groups is given in the movies_pre.csv file.*\n",
    "\n",
    "\n",
    "*Do we have enough statistical evidence to conclude that movies preference depends on marital status?*\n",
    "\n",
    "We will test the null hypothesis\n",
    "\n",
    ">$H_0:$ Movie preference is independent of marital status.\n",
    "\n",
    "against the alternate hypothesis\n",
    "\n",
    ">$H_a:$ Moive preference depends on marital status."
   ]
  },
  {
   "cell_type": "code",
   "execution_count": 6,
   "id": "5cc59a09",
   "metadata": {},
   "outputs": [
    {
     "data": {
      "text/html": [
       "<div>\n",
       "<style scoped>\n",
       "    .dataframe tbody tr th:only-of-type {\n",
       "        vertical-align: middle;\n",
       "    }\n",
       "\n",
       "    .dataframe tbody tr th {\n",
       "        vertical-align: top;\n",
       "    }\n",
       "\n",
       "    .dataframe thead th {\n",
       "        text-align: right;\n",
       "    }\n",
       "</style>\n",
       "<table border=\"1\" class=\"dataframe\">\n",
       "  <thead>\n",
       "    <tr style=\"text-align: right;\">\n",
       "      <th></th>\n",
       "      <th>marital_status</th>\n",
       "      <th>drama</th>\n",
       "      <th>thriller</th>\n",
       "      <th>comedy</th>\n",
       "      <th>fantasy</th>\n",
       "      <th>romance</th>\n",
       "      <th>science fiction</th>\n",
       "      <th>adventure</th>\n",
       "      <th>sports</th>\n",
       "      <th>action</th>\n",
       "      <th>horror</th>\n",
       "      <th>musical</th>\n",
       "      <th>mystery</th>\n",
       "    </tr>\n",
       "  </thead>\n",
       "  <tbody>\n",
       "    <tr>\n",
       "      <th>0</th>\n",
       "      <td>single</td>\n",
       "      <td>14</td>\n",
       "      <td>65</td>\n",
       "      <td>98</td>\n",
       "      <td>15</td>\n",
       "      <td>86</td>\n",
       "      <td>25</td>\n",
       "      <td>92</td>\n",
       "      <td>15</td>\n",
       "      <td>82</td>\n",
       "      <td>45</td>\n",
       "      <td>22</td>\n",
       "      <td>31</td>\n",
       "    </tr>\n",
       "    <tr>\n",
       "      <th>1</th>\n",
       "      <td>married</td>\n",
       "      <td>9</td>\n",
       "      <td>78</td>\n",
       "      <td>22</td>\n",
       "      <td>52</td>\n",
       "      <td>74</td>\n",
       "      <td>13</td>\n",
       "      <td>69</td>\n",
       "      <td>24</td>\n",
       "      <td>76</td>\n",
       "      <td>20</td>\n",
       "      <td>41</td>\n",
       "      <td>45</td>\n",
       "    </tr>\n",
       "    <tr>\n",
       "      <th>2</th>\n",
       "      <td>widowed</td>\n",
       "      <td>6</td>\n",
       "      <td>55</td>\n",
       "      <td>45</td>\n",
       "      <td>43</td>\n",
       "      <td>33</td>\n",
       "      <td>54</td>\n",
       "      <td>10</td>\n",
       "      <td>19</td>\n",
       "      <td>93</td>\n",
       "      <td>35</td>\n",
       "      <td>23</td>\n",
       "      <td>43</td>\n",
       "    </tr>\n",
       "    <tr>\n",
       "      <th>3</th>\n",
       "      <td>divorced</td>\n",
       "      <td>21</td>\n",
       "      <td>34</td>\n",
       "      <td>11</td>\n",
       "      <td>24</td>\n",
       "      <td>27</td>\n",
       "      <td>87</td>\n",
       "      <td>37</td>\n",
       "      <td>50</td>\n",
       "      <td>55</td>\n",
       "      <td>19</td>\n",
       "      <td>12</td>\n",
       "      <td>65</td>\n",
       "    </tr>\n",
       "  </tbody>\n",
       "</table>\n",
       "</div>"
      ],
      "text/plain": [
       "  marital_status  drama  thriller  comedy  fantasy  romance  science fiction  \\\n",
       "0         single     14        65      98       15       86               25   \n",
       "1        married      9        78      22       52       74               13   \n",
       "2        widowed      6        55      45       43       33               54   \n",
       "3       divorced     21        34      11       24       27               87   \n",
       "\n",
       "   adventure  sports  action  horror  musical  mystery  \n",
       "0         92      15      82      45       22       31  \n",
       "1         69      24      76      20       41       45  \n",
       "2         10      19      93      35       23       43  \n",
       "3         37      50      55      19       12       65  "
      ]
     },
     "execution_count": 6,
     "metadata": {},
     "output_type": "execute_result"
    }
   ],
   "source": [
    "movies_data = pd.read_csv('movies_pref.csv', encoding= 'unicode_escape')\n",
    "movies_data"
   ]
  },
  {
   "cell_type": "markdown",
   "id": "3226c9f1",
   "metadata": {},
   "source": [
    "### Are the assumptions of the Chi-Square test are satisfied or not?\n",
    "\n",
    "- Categorical variables - Yes\n",
    "- The Expected value of the number of sample observations in each level of the variable is at least 5 - Yes, the number of observations in each level is greater than 5.\n",
    "- Random sampling from the population - Yes, we are informed that the collected sample is a simple random sample."
   ]
  },
  {
   "cell_type": "code",
   "execution_count": 7,
   "id": "a7329967",
   "metadata": {},
   "outputs": [
    {
     "name": "stdout",
     "output_type": "stream",
     "text": [
      "The p-value is 1.9405585331324374e-66\n"
     ]
    }
   ],
   "source": [
    "from scipy.stats import chi2_contingency\n",
    "\n",
    "chi, p_value, dof, expected = chi2_contingency(movies_data.drop('marital_status', axis=1))\n",
    "print('The p-value is', p_value)"
   ]
  },
  {
   "cell_type": "markdown",
   "id": "22f093c7",
   "metadata": {},
   "source": [
    "As the p-value is much less than the significance level, we can reject the null hypothesis. Hence, we do have enough statistical evidence to conclude that movie preferences is not independent of marital status at a 5% significance level."
   ]
  },
  {
   "cell_type": "markdown",
   "id": "62d3e78e",
   "metadata": {},
   "source": [
    "### **Conclusion**\n",
    "\n",
    "- With 95% confidence, we have enough statistical evidence to come up with  that the movie preferences depend on marital status."
   ]
  }
 ],
 "metadata": {
  "kernelspec": {
   "display_name": "Python 3 (ipykernel)",
   "language": "python",
   "name": "python3"
  },
  "language_info": {
   "codemirror_mode": {
    "name": "ipython",
    "version": 3
   },
   "file_extension": ".py",
   "mimetype": "text/x-python",
   "name": "python",
   "nbconvert_exporter": "python",
   "pygments_lexer": "ipython3",
   "version": "3.9.12"
  }
 },
 "nbformat": 4,
 "nbformat_minor": 5
}
